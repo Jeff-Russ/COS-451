{
 "cells": [
  {
   "cell_type": "markdown",
   "metadata": {},
   "source": [
    "# CS486 - Artificial Intelligence\n",
    "## Lesson 35 - Perceptron\n",
    "\n",
    "I think we should add some Support Vector Machine stuff in here ..."
   ]
  },
  {
   "cell_type": "code",
   "execution_count": 1,
   "metadata": {
    "collapsed": true
   },
   "outputs": [],
   "source": [
    "import pandas as pd\n",
    "import numpy as np\n",
    "import matplotlib.pyplot as plt\n",
    "from sklearn.linear_model import perceptron\n",
    "\n",
    "%matplotlib inline"
   ]
  },
  {
   "cell_type": "code",
   "execution_count": 13,
   "metadata": {
    "collapsed": false
   },
   "outputs": [
    {
     "data": {
      "text/html": [
       "<div>\n",
       "<style scoped>\n",
       "    .dataframe tbody tr th:only-of-type {\n",
       "        vertical-align: middle;\n",
       "    }\n",
       "\n",
       "    .dataframe tbody tr th {\n",
       "        vertical-align: top;\n",
       "    }\n",
       "\n",
       "    .dataframe thead th {\n",
       "        text-align: right;\n",
       "    }\n",
       "</style>\n",
       "<table border=\"1\" class=\"dataframe\">\n",
       "  <thead>\n",
       "    <tr style=\"text-align: right;\">\n",
       "      <th></th>\n",
       "      <th>Mass</th>\n",
       "      <th>Length</th>\n",
       "      <th>Class</th>\n",
       "      <th>ClassId</th>\n",
       "    </tr>\n",
       "  </thead>\n",
       "  <tbody>\n",
       "    <tr>\n",
       "      <th>0</th>\n",
       "      <td>10.0</td>\n",
       "      <td>6.0</td>\n",
       "      <td>Lorry</td>\n",
       "      <td>0</td>\n",
       "    </tr>\n",
       "    <tr>\n",
       "      <th>1</th>\n",
       "      <td>20.0</td>\n",
       "      <td>5.0</td>\n",
       "      <td>Lorry</td>\n",
       "      <td>0</td>\n",
       "    </tr>\n",
       "    <tr>\n",
       "      <th>2</th>\n",
       "      <td>5.0</td>\n",
       "      <td>4.0</td>\n",
       "      <td>Van</td>\n",
       "      <td>1</td>\n",
       "    </tr>\n",
       "    <tr>\n",
       "      <th>3</th>\n",
       "      <td>2.0</td>\n",
       "      <td>5.0</td>\n",
       "      <td>Van</td>\n",
       "      <td>1</td>\n",
       "    </tr>\n",
       "    <tr>\n",
       "      <th>4</th>\n",
       "      <td>3.0</td>\n",
       "      <td>4.5</td>\n",
       "      <td>Van</td>\n",
       "      <td>1</td>\n",
       "    </tr>\n",
       "    <tr>\n",
       "      <th>5</th>\n",
       "      <td>3.0</td>\n",
       "      <td>6.0</td>\n",
       "      <td>Lorry</td>\n",
       "      <td>0</td>\n",
       "    </tr>\n",
       "    <tr>\n",
       "      <th>6</th>\n",
       "      <td>10.0</td>\n",
       "      <td>7.0</td>\n",
       "      <td>Lorry</td>\n",
       "      <td>0</td>\n",
       "    </tr>\n",
       "    <tr>\n",
       "      <th>7</th>\n",
       "      <td>15.0</td>\n",
       "      <td>8.0</td>\n",
       "      <td>Lorry</td>\n",
       "      <td>0</td>\n",
       "    </tr>\n",
       "    <tr>\n",
       "      <th>8</th>\n",
       "      <td>5.0</td>\n",
       "      <td>9.0</td>\n",
       "      <td>Lorry</td>\n",
       "      <td>0</td>\n",
       "    </tr>\n",
       "  </tbody>\n",
       "</table>\n",
       "</div>"
      ],
      "text/plain": [
       "   Mass  Length  Class  ClassId\n",
       "0  10.0     6.0  Lorry        0\n",
       "1  20.0     5.0  Lorry        0\n",
       "2   5.0     4.0    Van        1\n",
       "3   2.0     5.0    Van        1\n",
       "4   3.0     4.5    Van        1\n",
       "5   3.0     6.0  Lorry        0\n",
       "6  10.0     7.0  Lorry        0\n",
       "7  15.0     8.0  Lorry        0\n",
       "8   5.0     9.0  Lorry        0"
      ]
     },
     "execution_count": 13,
     "metadata": {},
     "output_type": "execute_result"
    }
   ],
   "source": [
    "dataset = pd.DataFrame.from_dict({\n",
    "    'Mass': [10.0, 20.0, 5.0, 2.0, 3.0, 3.0, 10.0, 15.0, 5.0], \n",
    "    'Length': [6.0,  5.0,  4.0, 5.0, 4.5, 6.0, 7.0,  8.0,  9.0],\n",
    "    'Class':  ['Lorry', 'Lorry', 'Van', 'Van', 'Van', 'Lorry', 'Lorry', 'Lorry', 'Lorry'],\n",
    "    'ClassId': [0,0,1,1,1,0,0,0,0]\n",
    "})\n",
    "dataset"
   ]
  },
  {
   "cell_type": "code",
   "execution_count": 3,
   "metadata": {
    "collapsed": false
   },
   "outputs": [
    {
     "data": {
      "text/plain": [
       "<matplotlib.collections.PathCollection at 0x1a264ed828>"
      ]
     },
     "execution_count": 3,
     "metadata": {},
     "output_type": "execute_result"
    },
    {
     "data": {
      "image/png": "[encoded data removed]",
      "text/plain": [
       "<Figure size 432x288 with 1 Axes>"
      ]
     },
     "metadata": {
      "needs_background": "light"
     },
     "output_type": "display_data"
    }
   ],
   "source": [
    "# plot the dataset\n",
    "# seperating classes using the colors blue and red\n",
    "# blue : lorry, red : van\n",
    "\n",
    "class_colors = np.array(['b', 'r'])\n",
    "\n",
    "# plot the dataset, \"Length\" is x axis, \"Mass\" is y axis\n",
    "plt.ylim([0,30])\n",
    "plt.xlim([0,15])\n",
    "length_min_max = plt.xlim()\n",
    "mass_min_max = plt.ylim()\n",
    "\n",
    "plt.scatter(dataset.Length, dataset.Mass, c=class_colors[dataset.ClassId], s=50)"
   ]
  },
  {
   "cell_type": "code",
   "execution_count": 17,
   "metadata": {
    "collapsed": false
   },
   "outputs": [
    {
     "name": "stdout",
     "output_type": "stream",
     "text": [
      "coefficients = [[-0.0075 -0.005 ]]\n",
      "bias = [0.059]\n"
     ]
    }
   ],
   "source": [
    "# make perceptron object (m_perceptron)\n",
    "m_perceptron = perceptron.Perceptron(max_iter=1000, verbose=0, random_state=None, fit_intercept=True, eta0=0.001)\n",
    "\n",
    "# train the perceptron object (m_perceptron)\n",
    "m_perceptron.fit(dataset[['Length', 'Mass']],dataset['ClassId'])\n",
    "\n",
    "# print the coefficients matrix and bias\n",
    "coefficients = m_perceptron.coef_;\n",
    "bias = m_perceptron.intercept_;\n",
    "\n",
    "print(\"coefficients =\",coefficients)\n",
    "print(\"bias =\", bias)"
   ]
  },
  {
   "cell_type": "code",
   "execution_count": 23,
   "metadata": {
    "collapsed": false
   },
   "outputs": [
    {
     "data": {
      "text/plain": [
       "[<matplotlib.lines.Line2D at 0x1a269fd470>]"
      ]
     },
     "execution_count": 23,
     "metadata": {},
     "output_type": "execute_result"
    },
    {
     "data": {
      "image/png": "[encoded data removed]",
      "text/plain": [
       "<Figure size 432x288 with 1 Axes>"
      ]
     },
     "metadata": {
      "needs_background": "light"
     },
     "output_type": "display_data"
    }
   ],
   "source": [
    "# print the decision boundry\n",
    "# y = theta0 + theta1 * x1 + theta2 * x2 . . .\n",
    "# y = bias + coefficients[0][0] * length + coefficients[0][1] * mass\n",
    "# for plotting the decision boundry equally divide the x axis of the plot\n",
    "\n",
    "xx1_length = np.linspace(start=length_min_max[0], stop=length_min_max[1], num=100, endpoint=True)\n",
    "\n",
    "# using the values of the equally divided x axis, calculate the y axis\n",
    "# using the equation of perceptron (bias and coefficients)\n",
    "yy = (-bias -(xx1_length * coefficients[0][0])) / coefficients[0][1];\n",
    "\n",
    "# limit the plot area on x and y axises\n",
    "plt.ylim([0,30])\n",
    "plt.xlim([0,15])\n",
    "# plot the dataset\n",
    "plt.scatter(dataset.Length, dataset.Mass, c=class_colors[dataset.ClassId], s=25)\n",
    "# plot the decision boundry\n",
    "plt.plot(xx1_length,yy)"
   ]
  },
  {
   "cell_type": "code",
   "execution_count": 24,
   "metadata": {
    "collapsed": false
   },
   "outputs": [
    {
     "name": "stdout",
     "output_type": "stream",
     "text": [
      "[0 0 1 1 1 0 0 0 0]\n"
     ]
    }
   ],
   "source": [
    "# run prediction for all the values in the dataset\n",
    "prediction = m_perceptron.predict(dataset[['Length','Mass']])\n",
    "print (prediction)"
   ]
  },
  {
   "cell_type": "code",
   "execution_count": 25,
   "metadata": {
    "collapsed": false
   },
   "outputs": [
    {
     "name": "stdout",
     "output_type": "stream",
     "text": [
      "[0]\n"
     ]
    }
   ],
   "source": [
    "# run prediction for an individual item\n",
    "# having length 11 and mass 12\n",
    "prediction = m_perceptron.predict([[11,12]])\n",
    "print (prediction)"
   ]
  },
  {
   "cell_type": "code",
   "execution_count": 26,
   "metadata": {
    "collapsed": false
   },
   "outputs": [
    {
     "name": "stdout",
     "output_type": "stream",
     "text": [
      "[1]\n"
     ]
    }
   ],
   "source": [
    "# run prediction for an individual item\n",
    "# having length 2 and mass 7\n",
    "prediction = m_perceptron.predict([[2,7]])\n",
    "print (prediction)"
   ]
  }
 ],
 "metadata": {
  "kernelspec": {
   "display_name": "Python 3",
   "language": "python",
   "name": "python3"
  },
  "language_info": {
   "codemirror_mode": {
    "name": "ipython",
    "version": 3
   },
   "file_extension": ".py",
   "mimetype": "text/x-python",
   "name": "python",
   "nbconvert_exporter": "python",
   "pygments_lexer": "ipython3",
   "version": "3.6.6"
  }
 },
 "nbformat": 4,
 "nbformat_minor": 2
}
