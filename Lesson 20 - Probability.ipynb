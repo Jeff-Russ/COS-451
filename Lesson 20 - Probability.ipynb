{
 "cells": [
  {
   "cell_type": "markdown",
   "metadata": {},
   "source": [
    "# CS486 - Artificial Intelligence\n",
    "## Lesson 21 - Probability\n",
    "\n",
    "Today we will discuss probabilistic inference. Our goal is to learn something about *random variables* that we care about through the observation of some other set of variables. We'll explore these concepts using some AIMA helpers. "
   ]
  },
  {
   "cell_type": "code",
   "execution_count": 2,
   "metadata": {},
   "outputs": [],
   "source": [
    "import helpers\n",
    "from aima.probability import *"
   ]
  },
  {
   "cell_type": "markdown",
   "metadata": {},
   "source": [
    "## Distributions\n",
    "\n",
    "A **random variable** is a variable whose possible values are outcomes of a random phenomenon. In other words their values aren't described by a function, but by a **probability distribution**. \n",
    "\n",
    "Consider the example of a friend who randomly brings an umbrella with her to work. Over two weeks, she brought her umbrella on 7 days. We cannot write a function that tells us when she'll have the umbrella, but we can write the distribution $P(Umbrella)$:\n",
    "\n",
    "| Umbrella | P |\n",
    "|---|---|\n",
    "| `True` | 7 | \n",
    "| `False` | 7 |\n",
    "\n",
    "A **normal distribution** is one whose values sum to 1. You can normalize a distibution by dividing each value by the sum of all the values. For the example above, we can normalize by dividing by 14. AIMA's `ProbDist` class can also normalize values: "
   ]
  },
  {
   "cell_type": "code",
   "execution_count": 26,
   "metadata": {},
   "outputs": [
    {
     "data": {
      "text/plain": [
       "'False: 0.5, True: 0.5'"
      ]
     },
     "execution_count": 26,
     "metadata": {},
     "output_type": "execute_result"
    }
   ],
   "source": [
    "umbrella = ProbDist('Umbrella', {True: 7, False: 7})\n",
    "umbrella.normalize()\n",
    "umbrella.show_approx()"
   ]
  },
  {
   "cell_type": "markdown",
   "metadata": {},
   "source": [
    "A **joint distribution** is a distribution that describes the probabilities of outcomes involving two or more variables. For example, consider the joint distribution of whether or not it is raining when our friend has her umbrella:\n",
    "\n",
    "| Forecast | Rain | Umbrella | P |\n",
    "|-------|-------|-------|---|\n",
    "| True  | True  | True  | 0.25 | \n",
    "| True  | True  | False | 0.09 |\n",
    "| True  | False | True  | 0.11 |\n",
    "| True  | False | False | 0.08 |\n",
    "| False | True  | True  | 0.07 |\n",
    "| False | True  | False | 0.16 |\n",
    "| False | False | True  | 0.04 |\n",
    "| False | False | False | 0.20 |\n",
    "\n",
    "So have the odds of our friend carrying her umbrella changed? Well, we can compute the **marginal distribution** for `Umbrella`. It is called *marginal* because if you were to do this by hand, you would find all the entries where the `Umbrella` values were the same and sum them *in the margins*. Mathematically, a marginal distribution is: \n",
    "\n",
    "$$P(X=x)=\\sum\\limits_y P(X=x,Y=y)$$ \n",
    "\n",
    "Given the joint distribution above, what is the marginal distribution for `Rain`? \n",
    "\n",
    "We can capture the joint distribution of `Rain` and `Umbrella` using AIMA's `JointProbDist` class: "
   ]
  },
  {
   "cell_type": "code",
   "execution_count": 13,
   "metadata": {},
   "outputs": [],
   "source": [
    "joint = JointProbDist(['Forecast','Rain','Umbrella'])\n",
    "joint[dict(Forecast=True,  Rain=True,  Umbrella=True)]  = 0.25\n",
    "joint[dict(Forecast=True,  Rain=True,  Umbrella=False)] = 0.09\n",
    "joint[dict(Forecast=True,  Rain=False, Umbrella=True)]  = 0.14\n",
    "joint[dict(Forecast=True,  Rain=False, Umbrella=False)] = 0.08\n",
    "joint[dict(Forecast=False, Rain=True,  Umbrella=True)]  = 0.07\n",
    "joint[dict(Forecast=False, Rain=True,  Umbrella=False)] = 0.16\n",
    "joint[dict(Forecast=False, Rain=False, Umbrella=True)]  = 0.04\n",
    "joint[dict(Forecast=False, Rain=False, Umbrella=False)] = 0.17"
   ]
  },
  {
   "cell_type": "markdown",
   "metadata": {},
   "source": [
    "The joint distribution lets us answer questions like, \"What are the chances that our friend has her umbrella when its raining?\" That's just an entry in the table:"
   ]
  },
  {
   "cell_type": "code",
   "execution_count": 18,
   "metadata": {},
   "outputs": [
    {
     "data": {
      "text/plain": [
       "0.33999999999999997"
      ]
     },
     "execution_count": 18,
     "metadata": {},
     "output_type": "execute_result"
    }
   ],
   "source": [
    "evidence = dict(Forecast=True,Rain=True)\n",
    "hidden = ['Umbrella']\n",
    "enumerate_joint(hidden, evidence, joint)"
   ]
  },
  {
   "cell_type": "code",
   "execution_count": 25,
   "metadata": {},
   "outputs": [
    {
     "data": {
      "text/plain": [
       "0.5614035087719298"
      ]
     },
     "execution_count": 25,
     "metadata": {},
     "output_type": "execute_result"
    }
   ],
   "source": [
    "query = 'Umbrella'\n",
    "evidence = dict(Rain=True)\n",
    "ans = enumerate_joint_ask(query, evidence, joint)\n",
    "ans[True]"
   ]
  },
  {
   "cell_type": "markdown",
   "metadata": {},
   "source": [
    "Mathmatically, we wouyld wr\n",
    "\n",
    "* Joint and marginal \n",
    "* Conditional distribution\n",
    "* Product rule, chain rule, Bayes' Rule\n",
    "* Inference\n",
    "* Independence\n",
    "\n",
    "| Rain | P |\n",
    "|---|---|\n",
    "| `True` | 2 | \n",
    "| `False` | 5 |\n",
    "\n",
    "Noise. The degree to which our outcomes are uncertain. \n",
    "Random variables. Something about which we are uncertain. Capitalized. Domain is lower case. Binary values are generally +/-\n",
    "\n",
    "Unobserved random variables have distributions. Distributions must have positive entires and sum to 1. \n",
    "\n",
    "Quiz question: Is this a valid distribution?\n",
    "\n",
    "A joint distribution involves more than 1 variable. Same properties. \n",
    "\n",
    "The fundamental problem is that a joint distributions of $n$ variables with a domain of $d$ is $d^n$. This gets big fast, so what do we do?\n",
    "\n",
    "A model is something that captures the joint distribution. One of the ways we can cheat is to say only certain variables interact, so we don't need to represent non-interacting variables in our model. \n",
    "\n",
    "Events. \n",
    "\n",
    "An event is an outcome. $P(E) = \\sum_{(x_1...x_n)\\in E} P(x_1...x_n)$\n",
    "Typically we only care about partial assignments where only some variables are assigned. \n",
    "\n",
    "Marginal distributions *marginalize* or remove other varaibles from consideration by removing all of their values. So, a marginal distribution for $X$ would be \n",
    "\n",
    "$$P(X=x)=\\sum\\limits_y P(X=x,Y=y)$$ \n",
    "\n",
    "to remove the temperature variable, we would remove all the weather variables. \n",
    "\n",
    "## Conditional Probabilities\n",
    "\n",
    "This is the most important thing because \"if we're going to measure something, what does that tell us about the things we don't get to measure\". \n",
    "\n",
    "$$p(a\\mid{b}) =  \\frac{P(a,b)}{P(b)}$$\n",
    "\n",
    "## Conditional Distribution\n",
    "\n",
    "## Normalization\n",
    "\n",
    "To normalize, in probability, is to make sum to one by multiplying by a constant. \n",
    "\n",
    "## Probablistic Inference\n",
    "\n",
    "There are some random variables that we care about, but we don't get to observe them. We get to observe some other set of variables. We want to infer something about the variables we care about from our observations. \n",
    "\n",
    "Update probabilities when there are new observations. \n",
    "\n",
    "### Inference by enumeration \n",
    "\n",
    "Build a joint distribution over all variables. \n",
    "\n",
    "There are evidence (observed variables), queries (unobserved variables), and hidden variables. Hidden variables are the ones we marginalize out when performing a query. Strategy: \n",
    "\n",
    "1. Fix the evidence variables (eliminate all entries that don't contain our evidence).\n",
    "2. Marginalize any hidden variables. \n",
    "3. Normalize. \n",
    "\n",
    "This is $O(d^n)$ in both time and space. \n",
    "\n",
    "In math, this is: \n",
    "\n",
    "$$p(Q\\mid{e_1...e_n}) =  \\frac{1}{Z}P(Q\\mid{...}$$\n",
    "\n",
    "### Discrete vs Continuous Variables\n",
    "\n",
    "All of our examples use discrete variables, but similar rules apply to continuous variables. "
   ]
  }
 ],
 "metadata": {
  "kernelspec": {
   "display_name": "Python 3",
   "language": "python",
   "name": "python3"
  },
  "language_info": {
   "codemirror_mode": {
    "name": "ipython",
    "version": 3
   },
   "file_extension": ".py",
   "mimetype": "text/x-python",
   "name": "python",
   "nbconvert_exporter": "python",
   "pygments_lexer": "ipython3",
   "version": "3.6.5"
  }
 },
 "nbformat": 4,
 "nbformat_minor": 2
}
