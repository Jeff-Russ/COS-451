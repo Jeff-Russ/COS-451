{
 "cells": [
  {
   "cell_type": "markdown",
   "metadata": {},
   "source": [
    "# CS486 - Artificial Intelligence\n",
    "## Lesson 3 - Informed Search\n",
    "\n",
    "We can improve tree search with knowledge about the problem domain. For example, for US currency, returning the largest coin that doesn't exceed the goal always will always produce an optimal result. So how can we apply that knowledge to our change problem? First, we'll need to import the AIMA search library:"
   ]
  },
  {
   "cell_type": "code",
   "execution_count": null,
   "metadata": {},
   "outputs": [],
   "source": [
    "import os, sys\n",
    "\n",
    "# since aima is not distributed as a package, this hack\n",
    "# is necessary to add it to Python's import search path\n",
    "sys.path.append(os.path.join(os.getcwd(),'aima'))\n",
    "\n",
    "from aima.search import *\n",
    "from aima.notebook import psource"
   ]
  },
  {
   "cell_type": "markdown",
   "metadata": {},
   "source": [
    "## Greedy Search\n",
    "\n",
    "The **`greedy_best_first_graph_search`** function takes a heuristic function that estimates the cost expanding the node. It's *greedy* because it *always* chooses the path with the cheapest cost according to the heuristic. Let's try running a greedy search against our **`Change`** problem from the previous lesson.\n",
    "\n",
    "First, enter your **`Change`** class from the last time in the cell below:"
   ]
  },
  {
   "cell_type": "code",
   "execution_count": null,
   "metadata": {},
   "outputs": [],
   "source": [
    "# Change class goes here"
   ]
  },
  {
   "cell_type": "markdown",
   "metadata": {},
   "source": [
    "Now we'll use the **`greedy_best_first_graph_search`** function to search your Change tree for a solution. The search function takes two arguments: The problem instance and a heuristic. The heuristic takes a **`Node`** object that encodes the current node in the tree, the action that lef to the node, and the node's corresponding state. Here's what the **`Node`** class looks like:"
   ]
  },
  {
   "cell_type": "code",
   "execution_count": null,
   "metadata": {},
   "outputs": [],
   "source": [
    "psource(Node)"
   ]
  },
  {
   "cell_type": "markdown",
   "metadata": {},
   "source": [
    "Below is code that implements a heuristic that always returns 1. Edit the **`heuristic`** function so that it always selects nodes with the highest value. "
   ]
  },
  {
   "cell_type": "code",
   "execution_count": null,
   "metadata": {},
   "outputs": [],
   "source": [
    "def heuristic(node):\n",
    "    return 1\n",
    "\n",
    "change = Change(initial=(),goal=51)\n",
    "greedy_best_first_graph_search(change, heuristic)"
   ]
  },
  {
   "cell_type": "markdown",
   "metadata": {},
   "source": [
    "Here is our **`InstramentedChange`** code from last time that compares the performance of each search algorithms. Add the greedy search to the list. "
   ]
  },
  {
   "cell_type": "code",
   "execution_count": null,
   "metadata": {},
   "outputs": [],
   "source": [
    "class InstramentedChange(Change):\n",
    "    def goal_test(self, state):\n",
    "        if hasattr(self, 'checks'):\n",
    "            self.checks += 1\n",
    "        else:\n",
    "            self.checks = 0\n",
    "\n",
    "        return Change.goal_test(self,state)\n",
    "\n",
    "searches = [\n",
    "    breadth_first_tree_search,    \n",
    "    depth_first_tree_search,\n",
    "    iterative_deepening_search,\n",
    "    uniform_cost_search\n",
    "]\n",
    "\n",
    "for search in searches:\n",
    "    change = InstramentedChange(initial=(),goal=26)\n",
    "    search(change)\n",
    "    print(search.__name__, \"=>\", change.checks)"
   ]
  },
  {
   "cell_type": "markdown",
   "metadata": {},
   "source": [
    "## A\\* search\n",
    "Is greedy *always* better? Consider the problem below."
   ]
  },
  {
   "cell_type": "code",
   "execution_count": null,
   "metadata": {},
   "outputs": [],
   "source": [
    "class CarnivalChange(InstramentedChange):\n",
    "    def coins(self):\n",
    "        return [1,3,4]\n",
    "\n",
    "for search in searches:\n",
    "    change = CarnivalChange(initial=(),goal=6)\n",
    "    print(search.__name__, \"=>\", search(change).solution())"
   ]
  },
  {
   "cell_type": "markdown",
   "metadata": {},
   "source": [
    "Greedy seems to perform well but, in the **`CarnivalChange`** case, isn't returning the optimal solution. So how do we get the performance of a greedy search with the accuracy of Uniform Cost Search? The answer is **A\\* search**. \n",
    "\n",
    "The A* algorithm takes both a heuristic function and the path cost and adds the two together:\n",
    "\n",
    "\\begin{equation*}\n",
    "f(n) = g(n) + h(n)\n",
    "\\end{equation*}\n",
    "\n",
    "A\\* is guarenteed to return the optimal path is the heuristic is ***admissible***, meaning that is never over-estimates the cost to the goal. Consider the following questions before continuing:\n",
    "\n",
    "* Is our heuristic admissible? Why or why not?\n",
    "* What is the path cost of our **`Change`** problem? Can we change it? Do we need to?\n",
    "\n",
    "The AIMA **`astar_search`** operates exactly like the **`greedy_best_first_graph_search`** function: It takes a problem isntance and a heuristic function. Using the code above as a reference, run A\\* against the **`CarnivalChange`** problem and answer the following questions:\n",
    "\n",
    "* Does A\\* find the optimal solution? \n",
    "* How does A\\* perform compared to the other search algorithms?"
   ]
  },
  {
   "cell_type": "code",
   "execution_count": null,
   "metadata": {},
   "outputs": [],
   "source": [
    "# Run A* against CarnivalChange and evaluate its performance here"
   ]
  }
 ],
 "metadata": {
  "kernelspec": {
   "display_name": "Python 3",
   "language": "python",
   "name": "python3"
  },
  "language_info": {
   "codemirror_mode": {
    "name": "ipython",
    "version": 3
   },
   "file_extension": ".py",
   "mimetype": "text/x-python",
   "name": "python",
   "nbconvert_exporter": "python",
   "pygments_lexer": "ipython3",
   "version": "3.6.5"
  }
 },
 "nbformat": 4,
 "nbformat_minor": 2
}
