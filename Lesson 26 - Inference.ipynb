{
 "cells": [
  {
   "cell_type": "markdown",
   "metadata": {},
   "source": [
    "# CS486 - Artificial Intelligence\n",
    "## Lesson 26 - Inference\n",
    "\n",
    "Last time we talked about how the structure of a BN ...\n",
    "\n",
    "Inference in Bayes' Nets in NP-hard. "
   ]
  },
  {
   "cell_type": "code",
   "execution_count": 1,
   "metadata": {},
   "outputs": [],
   "source": [
    "from helpers import *"
   ]
  },
  {
   "cell_type": "markdown",
   "metadata": {},
   "source": [
    "The goal is to query something:\n",
    "\n",
    "$$P(Q\\mid{e_1...e_k})$$"
   ]
  },
  {
   "cell_type": "markdown",
   "metadata": {},
   "source": [
    "### Inference by Enumeration\n",
    "\n",
    "1. Compute full join. \n",
    "2. Select rows consistent with the evidence.\n",
    "3. Sum out hidden variables to get joint distribution of query and evidence. \n",
    "4. Normalize. \n",
    "\n",
    "<img src=\"images/bayes_net.jpg\" width=\"400\">"
   ]
  },
  {
   "cell_type": "code",
   "execution_count": 4,
   "metadata": {},
   "outputs": [],
   "source": [
    "alarm_network = (BayesNet()\n",
    "    .add('Burglary', [], 0.001)\n",
    "    .add('Earthquake', [], 0.002)\n",
    "    .add('Alarm', ['Burglary', 'Earthquake'], {(T, T): 0.95, (T, F): 0.94, (F, T): 0.29, (F, F): 0.001})\n",
    "    .add('JohnCalls', ['Alarm'], {T: 0.90, F: 0.05})\n",
    "    .add('MaryCalls', ['Alarm'], {T: 0.70, F: 0.01}))  \n",
    "\n",
    "# so we can reference the variables outside the instance\n",
    "globals().update(alarm_network.lookup)"
   ]
  },
  {
   "cell_type": "code",
   "execution_count": 5,
   "metadata": {},
   "outputs": [
    {
     "data": {
      "text/plain": [
       "{F: 0.7158281646356071, T: 0.28417183536439294}"
      ]
     },
     "execution_count": 5,
     "metadata": {},
     "output_type": "execute_result"
    }
   ],
   "source": [
    "query(Burglary, {JohnCalls: T, MaryCalls: T}, alarm_network) "
   ]
  },
  {
   "cell_type": "markdown",
   "metadata": {},
   "source": [
    "In project teams, reproduce this result on boards. "
   ]
  },
  {
   "cell_type": "markdown",
   "metadata": {},
   "source": [
    "Inference by enumeration is exponential in the number of non-evidence variables. "
   ]
  },
  {
   "cell_type": "markdown",
   "metadata": {},
   "source": [
    "### Factors\n",
    "\n",
    "1. Joint distribution, $P(X,Y)$ sums to $1$ or selected joint, $P(X=x,Y)$ sums to $P(x)$. \n",
    "\n",
    "\n",
    "Number of non-fixed variables is the dimensionality of the table. \n"
   ]
  },
  {
   "cell_type": "code",
   "execution_count": null,
   "metadata": {},
   "outputs": [],
   "source": []
  }
 ],
 "metadata": {
  "kernelspec": {
   "display_name": "Python 3",
   "language": "python",
   "name": "python3"
  },
  "language_info": {
   "codemirror_mode": {
    "name": "ipython",
    "version": 3
   },
   "file_extension": ".py",
   "mimetype": "text/x-python",
   "name": "python",
   "nbconvert_exporter": "python",
   "pygments_lexer": "ipython3",
   "version": "3.7.0"
  }
 },
 "nbformat": 4,
 "nbformat_minor": 2
}
