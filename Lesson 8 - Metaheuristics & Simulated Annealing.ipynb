{
 "cells": [
  {
   "cell_type": "markdown",
   "metadata": {},
   "source": [
    "# CS486 - Artificial Intelligence\n",
    "## Lesson 8 - Metaheuristics & Simulated Annealing\n",
    "\n",
    "Iterative improvement gives us yet another way to tackle a CSP. We will take a look at a variety of CSPs and figure out how we can best solve them. "
   ]
  },
  {
   "cell_type": "code",
   "execution_count": null,
   "metadata": {},
   "outputs": [],
   "source": [
    "from helpers import romania\n",
    "from aima.search import *"
   ]
  },
  {
   "cell_type": "code",
   "execution_count": null,
   "metadata": {},
   "outputs": [],
   "source": [
    "class TSP(Problem):\n",
    "\n",
    "    def random_path(self,state):\n",
    "        state2 = state[:]\n",
    "        l = random.randint(0, len(state2) - 1)\n",
    "        r = random.randint(0, len(state2) - 1)\n",
    "\n",
    "        if l > r:\n",
    "            l, r = r,l\n",
    "        \n",
    "        state2[l : r + 1] = reversed(state2[l : r + 1])  \n",
    "        \n",
    "        return state2\n",
    "    \n",
    "    def actions(self, state):\n",
    "        return [self.random_path]\n",
    "    \n",
    "    def result(self, state, action):\n",
    "        return action(state)\n",
    "\n",
    "    def path_cost(self, c, state1, action, state2):\n",
    "        cost = 0\n",
    "        for i in range(len(state2) - 1):\n",
    "            cost += romania.distances[state2[i]][state2[i + 1]]\n",
    "        cost += romania.distances[state2[0]][state2[-1]]\n",
    "        return cost\n",
    " \n",
    "    def value(self, state):\n",
    "        return -1 * self.path_cost(None, None, None, state)"
   ]
  },
  {
   "cell_type": "code",
   "execution_count": null,
   "metadata": {},
   "outputs": [],
   "source": [
    "tsp = TSP(romania.cities)\n",
    "simulated_annealing(tsp,exp_schedule(k=100, lam=0.03, limit=1000))"
   ]
  },
  {
   "cell_type": "code",
   "execution_count": null,
   "metadata": {},
   "outputs": [],
   "source": [
    "%matplotlib inline\n",
    "\n",
    "import time\n",
    "import networkx as nx\n",
    "import matplotlib.pyplot as plt\n",
    "from IPython import display\n",
    "\n",
    "limit = 1500\n",
    "schedule = exp_schedule(k=100, lam=0.03, limit=limit)\n",
    "results = simulated_annealing_full(tsp,schedule)\n",
    "\n",
    "for i in range(0,limit):\n",
    "    result = results[i]\n",
    "    \n",
    "    if result == results[i-1]:\n",
    "        continue\n",
    "    \n",
    "    f = plt.figure(figsize=(15,6))\n",
    "    pairs = {result[j-1]: [result[j]] for j in range(len(result))}\n",
    "    \n",
    "    G = nx.Graph(pairs)\n",
    "    nx.draw(G, pos=romania_map.locations,node_color='none')\n",
    "\n",
    "    plt.gcf().text(1, 1, str(i), fontsize=24)\n",
    "    \n",
    "    # add a white bounding box behind the node labels\n",
    "    label = nx.draw_networkx_labels(G, pos=romania_map.locations, font_size=14, label=\"Foo\")\n",
    "    [l.set_bbox(dict(facecolor='white', edgecolor='none')) for l in label.values()]\n",
    "    \n",
    "    display.clear_output(wait=True)\n",
    "    plt.show()\n",
    "    time.sleep(0.25)\n",
    "    "
   ]
  }
 ],
 "metadata": {
  "kernelspec": {
   "display_name": "Python 3",
   "language": "python",
   "name": "python3"
  },
  "language_info": {
   "codemirror_mode": {
    "name": "ipython",
    "version": 3
   },
   "file_extension": ".py",
   "mimetype": "text/x-python",
   "name": "python",
   "nbconvert_exporter": "python",
   "pygments_lexer": "ipython3",
   "version": "3.6.5"
  }
 },
 "nbformat": 4,
 "nbformat_minor": 2
}
