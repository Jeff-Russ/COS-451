{
 "cells": [
  {
   "cell_type": "markdown",
   "metadata": {},
   "source": [
    "# CS486 - Artificial Intelligence\n",
    "## Lesson 6 - Constraint Satisfaction Problems\n",
    "\n",
    "The path from a start node to a goal node in a search tree problem can be more important than the goal itself. For instance, the path from Arad to Bucharest *is* the solution to the Romania search problem. \n",
    "\n",
    "CSPs take a different apprach by focusing on the solution itself and less on the path taken to get there. Map coloring is a good example: We just want a valid coloring of map, we don't really care how we obtained the coloring.  \n",
    "\n",
    "CSPs define a set of **variables** that are assigned values within their respective **domains**. Assignments between **neighbors** must satisfy a set of **constraints**. A lot of problems can be formulated as a CSPs, which makes them popular. There are a lot of general-purpose CSP solvers available and they are frequently used to find or approximate solutions to known hard problems.  \n",
    "\n",
    "Let's take a look at how we can use the AIMA library to articulate a CSP and the various methods available to solve it. Before we get started, import the CSP library form AIMA:"
   ]
  },
  {
   "cell_type": "code",
   "execution_count": null,
   "metadata": {},
   "outputs": [],
   "source": [
    "from helpers import print_puzzle\n",
    "from aima.csp import *\n",
    "\n",
    "# for generatoring graphs\n",
    "import networkx as nx\n",
    "%matplotlib inline"
   ]
  },
  {
   "cell_type": "markdown",
   "metadata": {},
   "source": [
    "Here's the documentation for the CSP class:"
   ]
  },
  {
   "cell_type": "code",
   "execution_count": null,
   "metadata": {},
   "outputs": [],
   "source": [
    "%pdoc CSP"
   ]
  },
  {
   "cell_type": "markdown",
   "metadata": {},
   "source": [
    "# Map Coloring\n",
    "\n",
    "So we need four things that every CSP problem needs: **variables**, **domains**, **neighbors**, and **contraints**. Let's see how we would build a solution to a trivial map coloring problem. \n",
    "\n",
    "Suppose we want to assign each node in a graph a color - *red, blue or green* - such that no two connected nodes share a color. Consider the 3-node cycle graph, pictured below. Let's see how we would solve this simple case using the CSP class. "
   ]
  },
  {
   "cell_type": "code",
   "execution_count": null,
   "metadata": {},
   "outputs": [],
   "source": [
    "nx.draw(nx.cycle_graph(3))"
   ]
  },
  {
   "cell_type": "markdown",
   "metadata": {},
   "source": [
    "The variables are the things we want to assign. In this case, the nodes. The domains are the valid assignments that can be made to each variable. Neighbors are the sets of variables impacted by each other's assignments. Finally, the constraint method or lambda returns **`True`** if two neighbors have assignments that do not conflict.\n",
    "\n",
    "Below is a CSP instance for our simple map coloring problem."
   ]
  },
  {
   "cell_type": "code",
   "execution_count": null,
   "metadata": {},
   "outputs": [],
   "source": [
    "variables = ['A','B','C']\n",
    "\n",
    "domains = {\n",
    "    'A': ['red','green','blue'],\n",
    "    'B': ['red','green','blue'],\n",
    "    'C': ['red','green','blue']\n",
    "}\n",
    "\n",
    "neighbors = {\n",
    "    'A': ['B','C'],\n",
    "    'B': ['A','C'],\n",
    "    'C': ['A','B']\n",
    "}\n",
    "\n",
    "def constraints(A,a,B,b):\n",
    "    return a!=b\n",
    "\n",
    "coloring = CSP(variables,domains,neighbors,constraints)"
   ]
  },
  {
   "cell_type": "markdown",
   "metadata": {},
   "source": [
    "Before continuing consider the following question: \n",
    "* What kind of contraints does our CSP require? Implcit? Explicit? Unary? Binary? n-ary? "
   ]
  },
  {
   "cell_type": "markdown",
   "metadata": {},
   "source": [
    "# Backtracking\n",
    "\n",
    "So how do we actually solve the CSP? We need an algorithm for exploring possible solutions. *Backtracking* is the uninformed search algorithm for CSPs. It is essentially a depth-first search with goal checks at every assignment. Let's apply backtracking to our problem:"
   ]
  },
  {
   "cell_type": "code",
   "execution_count": null,
   "metadata": {},
   "outputs": [],
   "source": [
    "backtracking_search(coloring)"
   ]
  },
  {
   "cell_type": "markdown",
   "metadata": {},
   "source": [
    "So how does backtracking work? To get a better idea of how the algorithm works, **[run the Backtracking Visualization from the AIMA website](http://aimacode.github.io/aima-javascript/6-Constraint-Satisfaction-Problems/#backtracking-search)**. "
   ]
  },
  {
   "cell_type": "markdown",
   "metadata": {},
   "source": [
    "How many times did the algorithm have to backtrack on our coloring problem? We can check the number of times a variable assignment was made by looking at the *`nassign`* attribute on our CSP:"
   ]
  },
  {
   "cell_type": "code",
   "execution_count": null,
   "metadata": {},
   "outputs": [],
   "source": [
    "coloring.nassigns"
   ]
  },
  {
   "cell_type": "markdown",
   "metadata": {},
   "source": [
    "It's not an intuitive result. The algorithm checked the constraints for a lot of potential variable assignments, but the only assignments it *actually* made were those that passed the `constraints` test."
   ]
  },
  {
   "cell_type": "markdown",
   "metadata": {},
   "source": [
    "# Edge Matching\n",
    "\n",
    "Edge matching puzzles, such as the one below, are typically square and have pieces whose edges are distinguished with colors or patterns, in such a way that the edges of adjacent tiles match. Edge matching puzzles are NP-complete but can be easily formulated as a CSP. \n",
    "\n",
    "<img width=\"400px\" src='http://origin2images-rainbowresource.netdna-ssl.com/products/015176.jpg'>"
   ]
  },
  {
   "cell_type": "markdown",
   "metadata": {},
   "source": [
    "Below are the pieces and skeleton of a 4x4 edge matching puzzle CSP. Assign values to **`variables`**, **`domains`**, **`neighbors`**, and define the **`constraints`** method. "
   ]
  },
  {
   "cell_type": "code",
   "execution_count": null,
   "metadata": {},
   "outputs": [],
   "source": [
    "pieces = [\n",
    "    ('B', 'P', 'O', 'Y'),\n",
    "    ('W', 'B', 'P', 'R'),\n",
    "    ('Y', 'B', 'G', 'W'),\n",
    "    ('Y', 'G', 'B', 'R')\n",
    "]\n",
    "\n",
    "print_puzzle(pieces)"
   ]
  },
  {
   "cell_type": "code",
   "execution_count": null,
   "metadata": {},
   "outputs": [],
   "source": [
    "variables = []\n",
    "domains = {}\n",
    "neighbors = {}\n",
    "\n",
    "def constraints(A,a,B,b):\n",
    "    return True\n",
    "    \n",
    "scramble = CSP(variables,domains,neighbors,constraints)"
   ]
  },
  {
   "cell_type": "markdown",
   "metadata": {},
   "source": [
    "The cell below will solve the CSP using **`backtracking_search`** function and print the number of assignments needed to find the solutions. "
   ]
  },
  {
   "cell_type": "code",
   "execution_count": null,
   "metadata": {},
   "outputs": [],
   "source": [
    "print_puzzle(backtracking_search(scramble))\n",
    "print(\"Solution found in\", scramble.nassigns, \"assignments\")"
   ]
  },
  {
   "cell_type": "markdown",
   "metadata": {},
   "source": [
    "# Improved Backtracking\n",
    "\n",
    "There are three ways we can improve our backtracking search:\n",
    "* Inference\n",
    "* Ordering variables\n",
    "* Ordering values\n",
    "\n",
    "## Inference\n",
    "\n",
    "Every time an assignment is made, we can remove values from the domains of neighboring variables that will break constraints, which can save us some backtracking. \n",
    "\n",
    "```python\n",
    "backtracking_search(csp,inference=forward_checking)\n",
    "```\n",
    "\n",
    "Walk through the following map coloring problem. How does forward checking save us from backtracking?"
   ]
  },
  {
   "cell_type": "code",
   "execution_count": null,
   "metadata": {},
   "outputs": [],
   "source": [
    "map = nx.triangular_lattice_graph(1,4)\n",
    "labels = {(x,y): \"[R B G]\" for x in range(3) for y in range(2)}\n",
    "nx.draw_kamada_kawai(map,labels=labels,node_color='white',edgecolors='black')"
   ]
  },
  {
   "cell_type": "markdown",
   "metadata": {},
   "source": [
    "**Arc consistency** is recursively applying forward checking to every edge in the graph every time an assignment is made. It is effective, but can be expensive in a highly connected graph. "
   ]
  },
  {
   "cell_type": "markdown",
   "metadata": {},
   "source": [
    "## Ordering variables\n",
    "\n",
    "By default, backtracking works through variables in the order they were originally given. By prioritizing the assignment of  variables with fewest values can prevent a lot of backtracking. In other words, if only one value can be assigned to a particular variable in the current state of the CSP, then that assignment should be made sooner than later. \n",
    "\n",
    "This strategy is called, the *minimum remaining values*. In AIMA, we could add that strategy to our backtracking search:\n",
    "\n",
    "```python\n",
    "backtracking_search(csp,select_unassigned_variable=mrv)\n",
    "```\n",
    "\n",
    "The has obvious advantages in situations like the one below:"
   ]
  },
  {
   "cell_type": "code",
   "execution_count": null,
   "metadata": {},
   "outputs": [],
   "source": [
    "map = nx.wheel_graph(9)\n",
    "colors=[*['white']*6,'blue','red','white']\n",
    "labels = {x: \"[R B G]\".rjust(27) for x in range(8)}\n",
    "labels[0], labels[6], labels[7] = \"[G]\".rjust(27),'',''\n",
    "labels[8], labels[5] = \"[B G]\".rjust(27), \"[R G]\".rjust(27)\n",
    "nx.draw_spectral(map,labels=labels,node_color=colors,edgecolors='black')"
   ]
  },
  {
   "cell_type": "markdown",
   "metadata": {},
   "source": [
    "## Ordering Values\n",
    "\n",
    "Similar advantages can be gained by choosing values that, when assigned, results in the fewest number of constraints. This strategy is called the *least constraining value*. In the example below, which assignment is the least constraining?\n",
    "\n",
    "<img src=\"https://s33.postimg.cc/go930p58f/lcv.png\">"
   ]
  },
  {
   "cell_type": "markdown",
   "metadata": {},
   "source": [
    "# Benchmarking\n",
    "\n",
    "So how much do time can these improvements shave of our backtracking search? To benchmark it, we need a bigger problem. Modify your CSP to solve the following 4x4 puzzle:"
   ]
  },
  {
   "cell_type": "code",
   "execution_count": null,
   "metadata": {},
   "outputs": [],
   "source": [
    "pieces = [\n",
    "    (0,3,4,5),\n",
    "    (7,9,8,0),\n",
    "    (8,5,5,9),\n",
    "    (0,5,0,1),\n",
    "    \n",
    "    (4,7,1,8),\n",
    "    (1,1,8,3),\n",
    "    (0,0,7,9),\n",
    "    (8,1,0,3),\n",
    "    \n",
    "    (7,8,9,5),\n",
    "    (9,0,9,8),\n",
    "    (8,6,7,5),\n",
    "    (1,9,9,7),\n",
    "    \n",
    "    (3,5,7,1),\n",
    "    (9,3,8,0),\n",
    "    (2,1,1,3),\n",
    "    (1,3,2,0)\n",
    "]"
   ]
  },
  {
   "cell_type": "markdown",
   "metadata": {},
   "source": [
    "## Baseline "
   ]
  },
  {
   "cell_type": "code",
   "execution_count": null,
   "metadata": {},
   "outputs": [],
   "source": [
    "%%time\n",
    "\n",
    "scramble = CSP(variables,domains,neighbors,constraints)\n",
    "assert(backtracking_search(scramble) is not None)\n",
    "print(scramble.nassigns)"
   ]
  },
  {
   "cell_type": "markdown",
   "metadata": {},
   "source": [
    "## Forward checking"
   ]
  },
  {
   "cell_type": "code",
   "execution_count": null,
   "metadata": {},
   "outputs": [],
   "source": [
    "%%time\n",
    "\n",
    "scramble = CSP(variables,domains,neighbors,constraints)\n",
    "assert(backtracking_search(scramble, inference=forward_checking) is not None)\n",
    "print(scramble.nassigns)"
   ]
  },
  {
   "cell_type": "markdown",
   "metadata": {},
   "source": [
    "## Arc consistency"
   ]
  },
  {
   "cell_type": "code",
   "execution_count": null,
   "metadata": {},
   "outputs": [],
   "source": [
    "%%time\n",
    "\n",
    "scramble = CSP(variables,domains,neighbors,constraints)\n",
    "assert(backtracking_search(scramble, inference=mac) is not None)\n",
    "print(scramble.nassigns)"
   ]
  },
  {
   "cell_type": "markdown",
   "metadata": {},
   "source": [
    "## Forward checking with MRV"
   ]
  },
  {
   "cell_type": "code",
   "execution_count": null,
   "metadata": {},
   "outputs": [],
   "source": [
    "%%time\n",
    "\n",
    "scramble = CSP(variables,domains,neighbors,constraints)\n",
    "assert(backtracking_search(scramble, inference=forward_checking, select_unassigned_variable=mrv) is not None)\n",
    "print(scramble.nassigns)"
   ]
  },
  {
   "cell_type": "markdown",
   "metadata": {},
   "source": [
    "# Challenge\n",
    "\n",
    "Perfect 10 is an edge matching puzzle where each edge is a number and adjacent edges must add to 10. With some minor modifications to your CSP, you should be able to solve the Perfect 10 puzzle below."
   ]
  },
  {
   "cell_type": "code",
   "execution_count": null,
   "metadata": {},
   "outputs": [],
   "source": [
    "pieces = [\n",
    "    (3,2,7,9),\n",
    "    (7,8,4,1),\n",
    "    (1,6,8,4),\n",
    "    \n",
    "    (2,6,9,3),\n",
    "    (3,2,6,9),\n",
    "    (4,2,7,9),\n",
    "    \n",
    "    (7,4,2,9),\n",
    "    (3,4,9,8),\n",
    "    (1,8,6,3)\n",
    "]"
   ]
  }
 ],
 "metadata": {
  "kernelspec": {
   "display_name": "Python 3",
   "language": "python",
   "name": "python3"
  },
  "language_info": {
   "codemirror_mode": {
    "name": "ipython",
    "version": 3
   },
   "file_extension": ".py",
   "mimetype": "text/x-python",
   "name": "python",
   "nbconvert_exporter": "python",
   "pygments_lexer": "ipython3",
   "version": "3.6.5"
  }
 },
 "nbformat": 4,
 "nbformat_minor": 2
}
