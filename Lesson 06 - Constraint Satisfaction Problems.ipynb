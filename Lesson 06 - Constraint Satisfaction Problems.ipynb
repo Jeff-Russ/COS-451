{
 "cells": [
  {
   "cell_type": "markdown",
   "metadata": {},
   "source": [
    "# CS486 - Artificial Intelligence\n",
    "## Lesson 6 - Constraint Satisfaction Problems\n",
    "\n",
    "The path from a start node to a goal node in a search tree problem can be more important than the goal itself. For instance, the path from Arad to Bucharest *is* the solution to the Romania search problem. \n",
    "\n",
    "CSPs take a different apprach by focusing on the solution itself and less on the path taken to get there. Map coloring is a good example: We just want a valid coloring of map, we don't really care how we obtained the coloring.  \n",
    "\n",
    "CSPs define a set of **variables** that are assigned values within their respective **domains**. Assignments between **neighbors** must satisfy a set of **constraints**. A lot of problems can be formulated as a CSPs, which makes them popular. There are a lot of general-purpose CSP solvers available and they are frequently used to find or approximate solutions to known hard problems.  \n",
    "\n",
    "Let's take a look at how we can use the AIMA library to articulate a CSP and the various methods available to solve it. Before we get started, import the CSP library form AIMA:"
   ]
  },
  {
   "cell_type": "code",
   "execution_count": 1,
   "metadata": {},
   "outputs": [],
   "source": [
    "from helpers import print_puzzle\n",
    "from aima.csp import *\n",
    "\n",
    "# for generatoring graphs\n",
    "import networkx as nx\n",
    "%matplotlib inline"
   ]
  },
  {
   "cell_type": "markdown",
   "metadata": {},
   "source": [
    "Here's the documentation for the CSP class:"
   ]
  },
  {
   "cell_type": "code",
   "execution_count": 2,
   "metadata": {},
   "outputs": [
    {
     "data": {
      "text/plain": [
       "\u001b[0;31mClass docstring:\u001b[0m\n",
       "    This class describes finite-domain Constraint Satisfaction Problems.\n",
       "    A CSP is specified by the following inputs:\n",
       "        variables   A list of variables; each is atomic (e.g. int or string).\n",
       "        domains     A dict of {var:[possible_value, ...]} entries.\n",
       "        neighbors   A dict of {var:[var,...]} that for each variable lists\n",
       "                    the other variables that participate in constraints.\n",
       "        constraints A function f(A, a, B, b) that returns true if neighbors\n",
       "                    A, B satisfy the constraint when they have values A=a, B=b\n",
       "    \n",
       "    In the textbook and in most mathematical definitions, the\n",
       "    constraints are specified as explicit pairs of allowable values,\n",
       "    but the formulation here is easier to express and more compact for\n",
       "    most cases. (For example, the n-Queens problem can be represented\n",
       "    in O(n) space using this notation, instead of O(N^4) for the\n",
       "    explicit representation.) In terms of describing the CSP as a\n",
       "    problem, that's all there is.\n",
       "    \n",
       "    However, the class also supports data structures and methods that help you\n",
       "    solve CSPs by calling a search function on the CSP. Methods and slots are\n",
       "    as follows, where the argument 'a' represents an assignment, which is a\n",
       "    dict of {var:val} entries:\n",
       "        assign(var, val, a)     Assign a[var] = val; do other bookkeeping\n",
       "        unassign(var, a)        Do del a[var], plus other bookkeeping\n",
       "        nconflicts(var, val, a) Return the number of other variables that\n",
       "                                conflict with var=val\n",
       "        curr_domains[var]       Slot: remaining consistent values for var\n",
       "                                Used by constraint propagation routines.\n",
       "    The following methods are used only by graph_search and tree_search:\n",
       "        actions(state)          Return a list of actions\n",
       "        result(state, action)   Return a successor of state\n",
       "        goal_test(state)        Return true if all constraints satisfied\n",
       "    The following are just for debugging purposes:\n",
       "        nassigns                Slot: tracks the number of assignments made\n",
       "        display(a)              Print a human-readable representation\n",
       "\u001b[0;31mInit docstring:\u001b[0m\n",
       "    Construct a CSP problem. If variables is empty, it becomes domains.keys()."
      ]
     },
     "metadata": {},
     "output_type": "display_data"
    }
   ],
   "source": [
    "%pdoc CSP"
   ]
  },
  {
   "cell_type": "markdown",
   "metadata": {},
   "source": [
    "# Map Coloring\n",
    "\n",
    "So we need four things that every CSP problem needs: **variables**, **domains**, **neighbors**, and **contraints**. Let's see how we would build a solution to a trivial map coloring problem. \n",
    "\n",
    "Suppose we want to assign each node in a graph a color - *red, blue or green* - such that no two connected nodes share a color. Consider the 3-node cycle graph, pictured below. Let's see how we would solve this simple case using the CSP class. "
   ]
  },
  {
   "cell_type": "code",
   "execution_count": 3,
   "metadata": {},
   "outputs": [
    {
     "data": {
      "image/png": "[encoded data removed]",
      "text/plain": [
       "<Figure size 432x288 with 1 Axes>"
      ]
     },
     "metadata": {},
     "output_type": "display_data"
    }
   ],
   "source": [
    "nx.draw(nx.cycle_graph(3))"
   ]
  },
  {
   "cell_type": "markdown",
   "metadata": {},
   "source": [
    "The variables are the things we want to assign. In this case, the nodes. The domains are the valid assignments that can be made to each variable. Neighbors are the sets of variables impacted by each other's assignments. Finally, the constraint method or lambda returns **`True`** if two neighbors have assignments that do not conflict.\n",
    "\n",
    "Below is a CSP instance for our simple map coloring problem."
   ]
  },
  {
   "cell_type": "code",
   "execution_count": 4,
   "metadata": {},
   "outputs": [],
   "source": [
    "variables = ['A','B','C']\n",
    "\n",
    "domains = {\n",
    "    'A': ['red','green','blue'],\n",
    "    'B': ['red','green','blue'],\n",
    "    'C': ['red','green','blue']\n",
    "}\n",
    "\n",
    "neighbors = {\n",
    "    'A': ['B','C'],\n",
    "    'B': ['A','C'],\n",
    "    'C': ['A','B']\n",
    "}\n",
    "\n",
    "def constraints(A,a,B,b):\n",
    "    return a!=b\n",
    "\n",
    "coloring = CSP(variables,domains,neighbors,constraints)"
   ]
  },
  {
   "cell_type": "markdown",
   "metadata": {},
   "source": [
    "Before continuing consider the following question: \n",
    "* What kind of contraints does our CSP require? Implcit? Explicit? Unary? Binary? n-ary? "
   ]
  },
  {
   "cell_type": "markdown",
   "metadata": {},
   "source": [
    "# Backtracking\n",
    "\n",
    "So how do we actually solve the CSP? We need an algorithm for exploring possible solutions. *Backtracking* is the uninformed search algorithm for CSPs. It is essentially a depth-first search with goal checks at every assignment. Let's apply backtracking to our problem:"
   ]
  },
  {
   "cell_type": "code",
   "execution_count": 5,
   "metadata": {},
   "outputs": [
    {
     "data": {
      "text/plain": [
       "{'A': 'red', 'B': 'green', 'C': 'blue'}"
      ]
     },
     "execution_count": 5,
     "metadata": {},
     "output_type": "execute_result"
    }
   ],
   "source": [
    "backtracking_search(coloring)"
   ]
  },
  {
   "cell_type": "markdown",
   "metadata": {},
   "source": [
    "So how does backtracking work? To get a better idea of how the algorithm works, **[run the Backtracking Visualization from the AIMA website](http://aimacode.github.io/aima-javascript/6-Constraint-Satisfaction-Problems/#backtracking-search)**. "
   ]
  },
  {
   "cell_type": "markdown",
   "metadata": {},
   "source": [
    "How many times did the algorithm have to backtrack on our coloring problem? We can check the number of times a variable assignment was made by looking at the *`nassign`* attribute on our CSP:"
   ]
  },
  {
   "cell_type": "code",
   "execution_count": 6,
   "metadata": {},
   "outputs": [
    {
     "data": {
      "text/plain": [
       "3"
      ]
     },
     "execution_count": 6,
     "metadata": {},
     "output_type": "execute_result"
    }
   ],
   "source": [
    "coloring.nassigns"
   ]
  },
  {
   "cell_type": "markdown",
   "metadata": {},
   "source": [
    "It's not an intuitive result. The algorithm checked the constraints for a lot of potential variable assignments, but the only assignments it *actually* made were those that passed the `constraints` test."
   ]
  },
  {
   "cell_type": "markdown",
   "metadata": {},
   "source": [
    "# Edge Matching\n",
    "\n",
    "Edge matching puzzles, such as the one below, are typically square and have pieces whose edges are distinguished with colors or patterns, in such a way that the edges of adjacent tiles match. Edge matching puzzles are NP-complete but can be easily formulated as a CSP. \n",
    "\n",
    "<img width=\"400px\" src='http://origin2images-rainbowresource.netdna-ssl.com/products/015176.jpg'>"
   ]
  },
  {
   "cell_type": "markdown",
   "metadata": {},
   "source": [
    "Below are the pieces and skeleton of a 4x4 edge matching puzzle CSP. Assign values to **`variables`**, **`domains`**, **`neighbors`**, and define the **`constraints`** method. "
   ]
  },
  {
   "cell_type": "code",
   "execution_count": 7,
   "metadata": {},
   "outputs": [
    {
     "name": "stdout",
     "output_type": "stream",
     "text": [
      "    B        W    \n",
      "  Y   P    R   B  \n",
      "    O        P    \n",
      "\n",
      "    Y        Y    \n",
      "  W   B    R   G  \n",
      "    G        B    \n",
      "\n"
     ]
    }
   ],
   "source": [
    "pieces = [\n",
    "    ('B', 'P', 'O', 'Y'),\n",
    "    ('W', 'B', 'P', 'R'),\n",
    "    ('Y', 'B', 'G', 'W'),\n",
    "    ('Y', 'G', 'B', 'R')\n",
    "]\n",
    "\n",
    "print_puzzle(pieces)"
   ]
  },
  {
   "cell_type": "code",
   "execution_count": 8,
   "metadata": {},
   "outputs": [],
   "source": [
    "variables = []\n",
    "domains = {}\n",
    "neighbors = {}\n",
    "\n",
    "def constraints(A,a,B,b):\n",
    "    return True\n",
    "    \n",
    "scramble = CSP(variables,domains,neighbors,constraints)"
   ]
  },
  {
   "cell_type": "markdown",
   "metadata": {},
   "source": [
    "The cell below will solve the CSP using **`backtracking_search`** function and print the number of assignments needed to find the solutions. "
   ]
  },
  {
   "cell_type": "code",
   "execution_count": 9,
   "metadata": {},
   "outputs": [
    {
     "name": "stdout",
     "output_type": "stream",
     "text": [
      "Solution found in 0 assignments\n"
     ]
    }
   ],
   "source": [
    "print_puzzle(backtracking_search(scramble))\n",
    "print(\"Solution found in\", scramble.nassigns, \"assignments\")"
   ]
  },
  {
   "cell_type": "markdown",
   "metadata": {},
   "source": [
    "# Improved Backtracking\n",
    "\n",
    "There are three ways we can improve our backtracking search:\n",
    "* Inference\n",
    "* Ordering variables\n",
    "* Ordering values\n",
    "\n",
    "## Inference\n",
    "\n",
    "Every time an assignment is made, we can remove values from the domains of neighboring variables that will break constraints, which can save us some backtracking. \n",
    "\n",
    "```python\n",
    "backtracking_search(csp,inference=forward_checking)\n",
    "```\n",
    "\n",
    "Walk through the following map coloring problem. How does forward checking save us from backtracking?"
   ]
  },
  {
   "cell_type": "code",
   "execution_count": 10,
   "metadata": {},
   "outputs": [
    {
     "data": {
      "image/png": "[encoded data removed]",
      "text/plain": [
       "<Figure size 432x288 with 1 Axes>"
      ]
     },
     "metadata": {},
     "output_type": "display_data"
    }
   ],
   "source": [
    "map = nx.triangular_lattice_graph(1,4)\n",
    "labels = {(x,y): \"[R B G]\" for x in range(3) for y in range(2)}\n",
    "nx.draw_kamada_kawai(map,labels=labels,node_color='white',edgecolors='black')"
   ]
  },
  {
   "cell_type": "markdown",
   "metadata": {},
   "source": [
    "**Arc consistency** is recursively applying forward checking to every edge in the graph every time an assignment is made. It is effective, but can be expensive in a highly connected graph. "
   ]
  },
  {
   "cell_type": "markdown",
   "metadata": {},
   "source": [
    "## Ordering variables\n",
    "\n",
    "By default, backtracking works through variables in the order they were originally given. By prioritizing the assignment of  variables with fewest values can prevent a lot of backtracking. In other words, if only one value can be assigned to a particular variable in the current state of the CSP, then that assignment should be made sooner than later. \n",
    "\n",
    "This strategy is called, the *minimum remaining values*. In AIMA, we could add that strategy to our backtracking search:\n",
    "\n",
    "```python\n",
    "backtracking_search(csp,select_unassigned_variable=mrv)\n",
    "```\n",
    "\n",
    "The has obvious advantages in situations like the one below:"
   ]
  },
  {
   "cell_type": "code",
   "execution_count": 11,
   "metadata": {},
   "outputs": [
    {
     "data": {
      "image/png": "[encoded data removed]",
      "text/plain": [
       "<Figure size 432x288 with 1 Axes>"
      ]
     },
     "metadata": {},
     "output_type": "display_data"
    }
   ],
   "source": [
    "map = nx.wheel_graph(9)\n",
    "colors=[*['white']*6,'blue','red','white']\n",
    "labels = {x: \"[R B G]\".rjust(27) for x in range(8)}\n",
    "labels[0], labels[6], labels[7] = \"[G]\".rjust(27),'',''\n",
    "labels[8], labels[5] = \"[B G]\".rjust(27), \"[R G]\".rjust(27)\n",
    "nx.draw_spectral(map,labels=labels,node_color=colors,edgecolors='black')"
   ]
  },
  {
   "cell_type": "markdown",
   "metadata": {},
   "source": [
    "## Ordering Values\n",
    "\n",
    "Similar advantages can be gained by choosing values that, when assigned, results in the fewest number of constraints. This strategy is called the *least constraining value*. In the example below, which assignment is the least constraining?\n",
    "\n",
    "<img src=\"https://s33.postimg.cc/go930p58f/lcv.png\">"
   ]
  },
  {
   "cell_type": "markdown",
   "metadata": {},
   "source": [
    "# Benchmarking\n",
    "\n",
    "So how much do time can these improvements shave of our backtracking search? To benchmark it, we need a bigger problem. Modify your CSP to solve the following 4x4 puzzle:"
   ]
  },
  {
   "cell_type": "code",
   "execution_count": 12,
   "metadata": {},
   "outputs": [],
   "source": [
    "pieces = [\n",
    "    (0,3,4,5),\n",
    "    (7,9,8,0),\n",
    "    (8,5,5,9),\n",
    "    (0,5,0,1),\n",
    "    \n",
    "    (4,7,1,8),\n",
    "    (1,1,8,3),\n",
    "    (0,0,7,9),\n",
    "    (8,1,0,3),\n",
    "    \n",
    "    (7,8,9,5),\n",
    "    (9,0,9,8),\n",
    "    (8,6,7,5),\n",
    "    (1,9,9,7),\n",
    "    \n",
    "    (3,5,7,1),\n",
    "    (9,3,8,0),\n",
    "    (2,1,1,3),\n",
    "    (1,3,2,0)\n",
    "]"
   ]
  },
  {
   "cell_type": "markdown",
   "metadata": {},
   "source": [
    "## Baseline "
   ]
  },
  {
   "cell_type": "code",
   "execution_count": 13,
   "metadata": {},
   "outputs": [
    {
     "name": "stdout",
     "output_type": "stream",
     "text": [
      "0\n",
      "CPU times: user 391 µs, sys: 147 µs, total: 538 µs\n",
      "Wall time: 453 µs\n"
     ]
    }
   ],
   "source": [
    "%%time\n",
    "\n",
    "scramble = CSP(variables,domains,neighbors,constraints)\n",
    "assert(backtracking_search(scramble) is not None)\n",
    "print(scramble.nassigns)"
   ]
  },
  {
   "cell_type": "markdown",
   "metadata": {},
   "source": [
    "## Forward checking"
   ]
  },
  {
   "cell_type": "code",
   "execution_count": 14,
   "metadata": {},
   "outputs": [
    {
     "name": "stdout",
     "output_type": "stream",
     "text": [
      "0\n",
      "CPU times: user 341 µs, sys: 116 µs, total: 457 µs\n",
      "Wall time: 392 µs\n"
     ]
    }
   ],
   "source": [
    "%%time\n",
    "\n",
    "scramble = CSP(variables,domains,neighbors,constraints)\n",
    "assert(backtracking_search(scramble, inference=forward_checking) is not None)\n",
    "print(scramble.nassigns)"
   ]
  },
  {
   "cell_type": "markdown",
   "metadata": {},
   "source": [
    "## Arc consistency"
   ]
  },
  {
   "cell_type": "code",
   "execution_count": 15,
   "metadata": {},
   "outputs": [
    {
     "name": "stdout",
     "output_type": "stream",
     "text": [
      "0\n",
      "CPU times: user 169 µs, sys: 57 µs, total: 226 µs\n",
      "Wall time: 266 µs\n"
     ]
    }
   ],
   "source": [
    "%%time\n",
    "\n",
    "scramble = CSP(variables,domains,neighbors,constraints)\n",
    "assert(backtracking_search(scramble, inference=mac) is not None)\n",
    "print(scramble.nassigns)"
   ]
  },
  {
   "cell_type": "markdown",
   "metadata": {},
   "source": [
    "## Forward checking with MRV"
   ]
  },
  {
   "cell_type": "code",
   "execution_count": 16,
   "metadata": {},
   "outputs": [
    {
     "name": "stdout",
     "output_type": "stream",
     "text": [
      "0\n",
      "CPU times: user 161 µs, sys: 32 µs, total: 193 µs\n",
      "Wall time: 204 µs\n"
     ]
    }
   ],
   "source": [
    "%%time\n",
    "\n",
    "scramble = CSP(variables,domains,neighbors,constraints)\n",
    "assert(backtracking_search(scramble, inference=forward_checking, select_unassigned_variable=mrv) is not None)\n",
    "print(scramble.nassigns)"
   ]
  },
  {
   "cell_type": "markdown",
   "metadata": {},
   "source": [
    "# Challenge\n",
    "\n",
    "Perfect 10 is an edge matching puzzle where each edge is a number and adjacent edges must add to 10. With some minor modifications to your CSP, you should be able to solve the Perfect 10 puzzle below."
   ]
  },
  {
   "cell_type": "code",
   "execution_count": 17,
   "metadata": {},
   "outputs": [],
   "source": [
    "pieces = [\n",
    "    (3,2,7,9),\n",
    "    (7,8,4,1),\n",
    "    (1,6,8,4),\n",
    "    \n",
    "    (2,6,9,3),\n",
    "    (3,2,6,9),\n",
    "    (4,2,7,9),\n",
    "    \n",
    "    (7,4,2,9),\n",
    "    (3,4,9,8),\n",
    "    (1,8,6,3)\n",
    "]"
   ]
  }
 ],
 "metadata": {
  "kernelspec": {
   "display_name": "Python 3",
   "language": "python",
   "name": "python3"
  },
  "language_info": {
   "codemirror_mode": {
    "name": "ipython",
    "version": 3
   },
   "file_extension": ".py",
   "mimetype": "text/x-python",
   "name": "python",
   "nbconvert_exporter": "python",
   "pygments_lexer": "ipython3",
   "version": "3.6.5"
  }
 },
 "nbformat": 4,
 "nbformat_minor": 2
}
