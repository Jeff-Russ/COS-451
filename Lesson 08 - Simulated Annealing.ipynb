{
 "cells": [
  {
   "cell_type": "markdown",
   "metadata": {},
   "source": [
    "# CS486 - Artificial Intelligence\n",
    "## Lesson 8 - Simulated Annealing\n",
    "\n",
    "Annealing is the heating of a metal and then slowly cooling it at a controlled rate, usually to make it more malleable. Simulated annealing is an algorihm that tries random solutions and becomes less and less random as it \"cools\". \n",
    "\n",
    "Walk through the [simulated annealing examples on the AIMA webise](http://aimacode.github.io/aima-javascript/4-Beyond-Classical-Search/) to get a better idea of how it works. "
   ]
  },
  {
   "cell_type": "markdown",
   "metadata": {},
   "source": [
    "## Traveling Salesman Problem\n",
    "\n",
    "Imagine there is a set of cities that you need to visit. How can you plan you route to minimize the distance travelled between them? This is the Traveling Salesman Problem and it is NP-hard. Let's apply simulated annealing to TSP. "
   ]
  },
  {
   "cell_type": "code",
   "execution_count": null,
   "metadata": {},
   "outputs": [],
   "source": [
    "from helpers import *\n",
    "from aima.search import *\n",
    "from aima.notebook import psource"
   ]
  },
  {
   "cell_type": "code",
   "execution_count": null,
   "metadata": {},
   "outputs": [],
   "source": [
    "psource(simulated_annealing)"
   ]
  },
  {
   "cell_type": "markdown",
   "metadata": {},
   "source": [
    "Let's define TSP an AIMA `Problem`:"
   ]
  },
  {
   "cell_type": "code",
   "execution_count": null,
   "metadata": {},
   "outputs": [],
   "source": [
    "import networkx as nx\n",
    "import matplotlib.pyplot as plt\n",
    "\n",
    "class TSP(Problem):\n",
    "    # we need distances for computing the cost of a state\n",
    "    # and locations for displaying the map\n",
    "    def __init__(self, initial, distances, locations):\n",
    "        self.distances = distances\n",
    "        self.locations = locations\n",
    "        Problem.__init__(self,initial)\n",
    "    \n",
    "    # randomly flip sections of the current state\n",
    "    def random_path(self,state):\n",
    "        state2 = state[:]\n",
    "        l = random.randint(0, len(state2) - 1)\n",
    "        r = random.randint(0, len(state2) - 1)\n",
    "\n",
    "        if l > r:\n",
    "            l, r = r,l\n",
    "        \n",
    "        state2[l : r + 1] = reversed(state2[l : r + 1])  \n",
    "        return state2\n",
    "    \n",
    "    # the only action to take is to try another random path\n",
    "    def actions(self, state):\n",
    "        return [self.random_path]\n",
    "    \n",
    "    # the only result is the next random path\n",
    "    def result(self, state, action):\n",
    "        return action(state)\n",
    "\n",
    "    # states cost the sum of the distances of every path \n",
    "    def value(self, state):\n",
    "        cost = 0\n",
    "        for i in range(len(state) - 1):\n",
    "            cost -= self.distances[state[i]][state[i + 1]]\n",
    "        cost -= self.distances[state[0]][state[-1]]\n",
    "        return cost\n",
    "\n",
    "    # print a map so we can see the map\n",
    "    def display(self,state):\n",
    "        f = plt.figure(figsize=(15,6))\n",
    "        pairs = {state[j-1]: [state[j]] for j in range(len(state))}\n",
    "\n",
    "        G = nx.Graph(pairs)\n",
    "        nx.draw(G, pos=self.locations,node_color='none')\n",
    "        \n",
    "        # print cost of state in upper right\n",
    "        plt.gcf().text(1, 1, str(int(self.value(state))), fontsize=24)\n",
    "        \n",
    "        # add a white bounding box behind the node labels\n",
    "        label = nx.draw_networkx_labels(G, pos=self.locations, font_size=14, label=\"Foo\")\n",
    "        [l.set_bbox(dict(facecolor='white', edgecolor='none')) for l in label.values()]"
   ]
  },
  {
   "cell_type": "markdown",
   "metadata": {},
   "source": [
    "We'll use the cities from our Romania problem for our TSP. Assume a solution is a list of cities and you visit cities in the order they appear in the list. \n",
    "\n",
    "For our initial state, we'll visit the cities in alphabetical order: \n",
    "\n",
    "> Arad $\\rightarrow$ Bucharest $\\rightarrow$ ... $\\rightarrow$ Vaslui $\\rightarrow$ Zerind  $\\rightarrow$ Arad"
   ]
  },
  {
   "cell_type": "code",
   "execution_count": null,
   "metadata": {},
   "outputs": [],
   "source": [
    "tsp = TSP(romania.cities, romania.distances, romania.locations)\n",
    "tsp.display(tsp.initial)"
   ]
  },
  {
   "cell_type": "markdown",
   "metadata": {},
   "source": [
    "Now let's approximate a solution using simulated annealing. First, we need a *schedule* that controls how long and fast the simulation cools. The schedule takes three parameters: An initial temperature, a `lambda` that determines the cool rate, the maximum number of iterations. "
   ]
  },
  {
   "cell_type": "code",
   "execution_count": null,
   "metadata": {},
   "outputs": [],
   "source": [
    "psource(exp_schedule)\n",
    "schedule = exp_schedule(k=100, lam=0.03, limit=1500)"
   ]
  },
  {
   "cell_type": "markdown",
   "metadata": {},
   "source": [
    "We have everything to run the simulation and see how it did:"
   ]
  },
  {
   "cell_type": "code",
   "execution_count": null,
   "metadata": {},
   "outputs": [],
   "source": [
    "tsp.display(simulated_annealing(tsp,schedule))"
   ]
  },
  {
   "cell_type": "markdown",
   "metadata": {},
   "source": [
    "To get an idea of how the simulation arrived at that solution, watch the visualization below:"
   ]
  },
  {
   "cell_type": "code",
   "execution_count": null,
   "metadata": {},
   "outputs": [],
   "source": [
    "import time\n",
    "from IPython import display\n",
    "\n",
    "# returns all intermediate states\n",
    "results = simulated_annealing_full(tsp,schedule)\n",
    "\n",
    "for i in range(0,len(results)):\n",
    "    if results[i] != results[i-1]:\n",
    "        tsp.display(results[i])\n",
    "        display.clear_output(wait=True)\n",
    "        plt.show()\n",
    "        time.sleep(0.25)"
   ]
  },
  {
   "cell_type": "markdown",
   "metadata": {},
   "source": [
    "## Quadradic Assignment Problem\n",
    "\n",
    "Consider the problem below. "
   ]
  },
  {
   "cell_type": "code",
   "execution_count": null,
   "metadata": {},
   "outputs": [],
   "source": [
    "class QAP(Problem):\n",
    "    # we need to read the flow data\n",
    "    def __init__(self, flow_data):\n",
    "        with open(flow_data) as infile:\n",
    "            self.flows = QAP.init_flow(infile)\n",
    "        Problem.__init__(self,QAP.init_locations(self.flows))\n",
    "    \n",
    "    def init_flow(infile):\n",
    "        \"\"\"\n",
    "        Initialize and return the flow matrix.\n",
    "\n",
    "        Reads the file pointed to by infile. The file must have the following\n",
    "        format:\n",
    "\n",
    "        Line x should contain the list of flow values from department x+1 to \n",
    "        departments 1 through x-1, each flow separated by whitespace. A blank line\n",
    "        terminates the file, so file comments can be inserted after one or more\n",
    "        blank lines.\n",
    "        \"\"\"\n",
    "\n",
    "        flows = []\n",
    "        for line in infile:\n",
    "            if line.strip():\n",
    "                flows.append([int(flow) for flow in line.split()])\n",
    "            else:\n",
    "                break\n",
    "\n",
    "        return flows\n",
    "\n",
    "    def init_locations(flows):\n",
    "        \"\"\"\n",
    "        Set initial department locations randomly.\n",
    "        \"\"\"\n",
    "        num_departments = len(flows) + 1 # flows doesn't have row for 1st department\n",
    "\n",
    "        # assume rectangular layouts\n",
    "        rows = math.floor(math.sqrt(num_departments))\n",
    "        cols = math.ceil(num_departments / rows)\n",
    "\n",
    "        dept_iter = iter(random.sample(range(num_departments), num_departments))\n",
    "\n",
    "        return [[next(dept_iter) for col in range(cols)] for row in range(rows)]\n",
    "    \n",
    "    def swap(self, state):\n",
    "        \"\"\"\n",
    "        Perturb the department arrangement by swapping two department locations. \n",
    "        Returns a tuple containing the locations swapped for use with undo swap, if\n",
    "        necessary.\n",
    "        \"\"\"\n",
    "        new_state = copy.deepcopy(state)\n",
    "        \n",
    "        x1 = random.choice(range(len(new_state)))\n",
    "        y1 = random.choice(range(len(new_state[x1])))\n",
    "\n",
    "        x2 = random.choice(range(len(new_state)))\n",
    "        y2 = random.choice(range(len(new_state[x2])))\n",
    "\n",
    "        while x1 == x2 and y1 == y2:\n",
    "            x2 = random.choice(range(len(new_state)))\n",
    "            y2 = random.choice(range(len(new_state[x2])))\n",
    "\n",
    "        new_state[x1][y1], new_state[x2][y2] = new_state[x2][y2], new_state[x1][y1]\n",
    "\n",
    "        return new_state\n",
    "    \n",
    "    # the only action to take is to try another random state\n",
    "    def actions(self, state):\n",
    "        return [self.swap(state)]\n",
    "    \n",
    "    # the only result is the next random state\n",
    "    def result(self, state, action):\n",
    "        return action\n",
    "\n",
    "    # states cost the sum of the weighted manhattan distances\n",
    "    def value(self, state):\n",
    "        \"\"\"\n",
    "        Calculates the cost based on the rectilinear distance between the source\n",
    "        and destination times the flow.\n",
    "        \"\"\"\n",
    "\n",
    "        total_cost = 0\n",
    "\n",
    "        # flow is symmetrical, so to avoid double-counting flow, we only count flow\n",
    "        # from locations below each current location and exit the loop as soon as\n",
    "        # it reaches the current location\n",
    "        for r1, r1_depts in enumerate(state):\n",
    "            for c1, dept1 in enumerate(r1_depts):\n",
    "                try:\n",
    "                    for r2, r2_depts in enumerate(state):\n",
    "                        for c2, dept2 in enumerate(r2_depts):\n",
    "                            if r2 == r1 and c2 == c1:\n",
    "                                # break out of two inner loops\n",
    "                                raise StopIteration\n",
    "                            else:\n",
    "                                # the flows lookup table is a half-matrix, so\n",
    "                                # we have to make sure we use the largest department\n",
    "                                # for the row and the smallest for the column\n",
    "                                lo, hi = ((dept1, dept2) if dept1 < dept2 \n",
    "                                                                else (dept2, dept1))\n",
    "                                dist = abs(r2-r1) + abs(c2-c1)\n",
    "\n",
    "                                # the half-matrix has no row for the first \n",
    "                                # department, so we subtract 1 from the dept number\n",
    "                                # to get the correct row; we never have to worry\n",
    "                                # about 0 being the hi_dept, since another\n",
    "                                # department will always be higher and force 0 to\n",
    "                                # the the lo_dept\n",
    "                                total_cost += self.flows[hi-1][lo] * dist\n",
    "                except StopIteration:\n",
    "                    continue\n",
    "\n",
    "        return total_cost\n",
    "\n",
    "    # print the solution\n",
    "    def display(self,state):\n",
    "        print(\"Cost: {}\".format(self.value(state)))\n",
    "        for row in state:\n",
    "            print(row)"
   ]
  },
  {
   "cell_type": "code",
   "execution_count": null,
   "metadata": {},
   "outputs": [],
   "source": [
    "%%time\n",
    "qap = QAP(\"input.txt\")\n",
    "qap.display(simulated_annealing(qap))"
   ]
  },
  {
   "cell_type": "code",
   "execution_count": null,
   "metadata": {},
   "outputs": [],
   "source": [
    "qap = QAP(\"input.txt\")\n",
    "psource(exp_schedule)\n",
    "schedule = exp_schedule(k=10, lam=0.005, limit=10000)\n",
    "qap.display(simulated_annealing(qap, schedule))"
   ]
  },
  {
   "cell_type": "code",
   "execution_count": null,
   "metadata": {},
   "outputs": [],
   "source": [
    "times = [37.6,34.6,]\n",
    "costs = [838,861,]"
   ]
  }
 ],
 "metadata": {
  "kernelspec": {
   "display_name": "Python 3",
   "language": "python",
   "name": "python3"
  },
  "language_info": {
   "codemirror_mode": {
    "name": "ipython",
    "version": 3
   },
   "file_extension": ".py",
   "mimetype": "text/x-python",
   "name": "python",
   "nbconvert_exporter": "python",
   "pygments_lexer": "ipython3",
   "version": "3.6.5"
  }
 },
 "nbformat": 4,
 "nbformat_minor": 2
}
