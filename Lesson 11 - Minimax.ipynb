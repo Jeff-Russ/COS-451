{
 "cells": [
  {
   "cell_type": "markdown",
   "metadata": {},
   "source": [
    "# CS486 - Artificial Intelligence\n",
    "## Lesson 11 - Minimax\n",
    "\n",
    "In adversarial search, our agent only gets to choose some portion of the path to the goal. How does that impact our search? We'll walk through a few examples of finding the best path to goal in the presence of an adversary.  "
   ]
  },
  {
   "cell_type": "code",
   "execution_count": null,
   "metadata": {},
   "outputs": [],
   "source": [
    "from helpers import nim_minimax_tree\n",
    "from aima.games import *\n",
    "from aima.notebook import psource"
   ]
  },
  {
   "cell_type": "code",
   "execution_count": null,
   "metadata": {},
   "outputs": [],
   "source": [
    "class Nim(Game):\n",
    "    def __init__(self,pile,n):\n",
    "        self.moves = list(range(1,n+1))\n",
    "        self.initial = GameState(to_move=1,utility=0,board=pile,moves=self.moves)\n",
    "    \n",
    "    def actions(self,state):\n",
    "        return [x for x in self.moves if x <= state.board]\n",
    "    \n",
    "    def result(self,state,action):\n",
    "        to_move=state.to_move%2+1\n",
    "        board=state.board-action\n",
    "        moves=[x for x in self.moves if x <= board]\n",
    "        return GameState(to_move,None,board,moves)\n",
    "    \n",
    "    def utility(self,state,player):\n",
    "        return (1 if state.to_move == player else -1)"
   ]
  },
  {
   "cell_type": "code",
   "execution_count": null,
   "metadata": {},
   "outputs": [],
   "source": [
    "import random\n",
    "nim = Nim(random.randint(5,10),3)\n",
    "print(nim.initial)\n",
    "nim.play_game(alphabeta_player,random_player)"
   ]
  },
  {
   "cell_type": "code",
   "execution_count": null,
   "metadata": {},
   "outputs": [],
   "source": [
    "nim_minimax_tree(3,3)"
   ]
  }
 ],
 "metadata": {
  "kernelspec": {
   "display_name": "Python 3",
   "language": "python",
   "name": "python3"
  },
  "language_info": {
   "codemirror_mode": {
    "name": "ipython",
    "version": 3
   },
   "file_extension": ".py",
   "mimetype": "text/x-python",
   "name": "python",
   "nbconvert_exporter": "python",
   "pygments_lexer": "ipython3",
   "version": "3.6.5"
  }
 },
 "nbformat": 4,
 "nbformat_minor": 2
}
