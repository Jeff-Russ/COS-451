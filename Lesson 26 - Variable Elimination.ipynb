{
 "cells": [
  {
   "cell_type": "markdown",
   "metadata": {},
   "source": [
    "# CS486 - Artificial Intelligence\n",
    "## Lesson 26 - Variable Elimination\n",
    "\n",
    "Today we'll look at how to use a Bayes' Net to answer questions given some evidence. First, we'll look at **inference by enumeration** which reconstitutes the full joint distribution across all variables. Next, we'll look at the **variable elimination** algorithm to more efficiently compute the join. "
   ]
  },
  {
   "cell_type": "code",
   "execution_count": null,
   "metadata": {},
   "outputs": [],
   "source": [
    "import helpers\n",
    "from bayes import *"
   ]
  },
  {
   "cell_type": "markdown",
   "metadata": {},
   "source": [
    "### Inference by Enumeration\n",
    "\n",
    "A Bayes' Net encodes the full joint distribution across a set of random variables. So what does the full joint look like for our alarm network? Let compute it:\n",
    "\n",
    "<center><img src=\"images/bayes_net.jpg\" width=\"400\"></center>\n"
   ]
  },
  {
   "cell_type": "code",
   "execution_count": null,
   "metadata": {},
   "outputs": [],
   "source": [
    "alarm_network = (BayesNet()\n",
    "    .add('Burglary', [], 0.001)\n",
    "    .add('Earthquake', [], 0.002)\n",
    "    .add('Alarm', \n",
    "         ['Burglary', 'Earthquake'], \n",
    "         {(T, T): 0.95, (T, F): 0.94, (F, T): 0.29, (F, F): 0.001})\n",
    "    .add('JohnCalls', ['Alarm'], {T: 0.90, F: 0.05})\n",
    "    .add('MaryCalls', ['Alarm'], {T: 0.70, F: 0.01}))  \n",
    "\n",
    "# so we can access our variables directly\n",
    "globals().update(alarm_network.lookup)"
   ]
  },
  {
   "cell_type": "markdown",
   "metadata": {},
   "source": [
    "The easiest way to compute the full joint is to consider every possible instantiation of every variable. Let's start with `F,F,F,F,F`:"
   ]
  },
  {
   "cell_type": "code",
   "execution_count": null,
   "metadata": {},
   "outputs": [],
   "source": [
    "P(Burglary)"
   ]
  },
  {
   "cell_type": "code",
   "execution_count": null,
   "metadata": {},
   "outputs": [],
   "source": [
    "P(Burglary)[F]"
   ]
  },
  {
   "cell_type": "code",
   "execution_count": null,
   "metadata": {},
   "outputs": [],
   "source": [
    "P(Burglary)[F] * \\\n",
    "P(Earthquake)[F] * \\\n",
    "P(Alarm, {Earthquake: F, Burglary: F})[F] * \\\n",
    "P(JohnCalls, {Alarm: F})[F] * \\\n",
    "P(MaryCalls, {Alarm: F})[F]"
   ]
  },
  {
   "cell_type": "markdown",
   "metadata": {},
   "source": [
    "Computing that for every row yields the full joint:"
   ]
  },
  {
   "cell_type": "code",
   "execution_count": null,
   "metadata": {},
   "outputs": [],
   "source": [
    "joint = joint_distribution(alarm_network)\n",
    "joint"
   ]
  },
  {
   "cell_type": "markdown",
   "metadata": {},
   "source": [
    "We can use the full joint to answer queries. For example, what are the odds that there is a burglary and Mary calls? \n",
    "\n",
    "Well, we just have to select rows where `Burglary` and `MaryCalls` is `T` and **sum out** the hidden variables:"
   ]
  },
  {
   "cell_type": "code",
   "execution_count": null,
   "metadata": {},
   "outputs": [],
   "source": [
    "mary_burglary = {F: 0, T: 0}\n",
    "\n",
    "for (b,e,a,j,m), p in joint.items():\n",
    "    if b == T:\n",
    "        print((b,e,a,j,m), p)\n",
    "        mary_burglary[m] += p\n",
    "        \n",
    "mary_burglary"
   ]
  },
  {
   "cell_type": "markdown",
   "metadata": {},
   "source": [
    "Any time you select evidence, you'll need to normalize:"
   ]
  },
  {
   "cell_type": "code",
   "execution_count": null,
   "metadata": {},
   "outputs": [],
   "source": [
    "ProbDist(mary_burglary)"
   ]
  },
  {
   "cell_type": "markdown",
   "metadata": {},
   "source": [
    "This strategy is exponential in the number of variables. The `enumeration_ask` function improves on this strategy by selecting rows consistent with the evidence before computing the join:"
   ]
  },
  {
   "cell_type": "code",
   "execution_count": null,
   "metadata": {},
   "outputs": [],
   "source": [
    "enumeration_ask(MaryCalls, {Burglary: T}, alarm_network)"
   ]
  },
  {
   "cell_type": "markdown",
   "metadata": {},
   "source": [
    "At best, inference by enumeration is  exponential in the number of non-evidence variables `:(`"
   ]
  },
  {
   "cell_type": "markdown",
   "metadata": {},
   "source": [
    "### Variable Elimination\n",
    "\n",
    "**NOTE: This section uses the older AIMA 3rd edition code so the API is a little different. You'll need to restart the kernel to move on from here. **\n",
    "\n",
    "Instead of computing the full join for the Bayes' Net we can compute **Factors** and sum out hidden variables before computing joins. Let's compute the odds of a burglary and Mary calling using variable elimination:"
   ]
  },
  {
   "cell_type": "code",
   "execution_count": null,
   "metadata": {},
   "outputs": [],
   "source": [
    "from helpers import * \n",
    "from aima.probability import *\n",
    "from aima.notebook import psource"
   ]
  },
  {
   "cell_type": "code",
   "execution_count": null,
   "metadata": {},
   "outputs": [],
   "source": [
    "alarm_network = BayesNet([\n",
    "    ('Burglary', '', 0.001),\n",
    "    ('Earthquake', '', 0.002),\n",
    "    ('Alarm', 'Burglary Earthquake',\n",
    "     {(T, T): 0.95, (T, F): 0.94, (F, T): 0.29, (F, F): 0.001}),\n",
    "    ('JohnCalls', 'Alarm', {T: 0.90, F: 0.05}),\n",
    "    ('MaryCalls', 'Alarm', {T: 0.70, F: 0.01})\n",
    "])"
   ]
  },
  {
   "cell_type": "markdown",
   "metadata": {},
   "source": [
    "First, build a factor for each variable in the network. Here's the factor for `Burglary`:"
   ]
  },
  {
   "cell_type": "code",
   "execution_count": null,
   "metadata": {},
   "outputs": [],
   "source": [
    "make_factor('Burglary', {'Burglary': T}, alarm_network)"
   ]
  },
  {
   "cell_type": "markdown",
   "metadata": {},
   "source": [
    "A factor only contains rows consistent with evidence, so the `Burglary` factor only contains one row. Now let's see the factor for `MaryCalls`:"
   ]
  },
  {
   "cell_type": "code",
   "execution_count": null,
   "metadata": {},
   "outputs": [],
   "source": [
    "mary_factor = make_factor('MaryCalls', {'Burglary': T}, alarm_network)\n",
    "mary_factor"
   ]
  },
  {
   "cell_type": "markdown",
   "metadata": {},
   "source": [
    "The factor's conditional probability table is a join on its parents. In this case, the parent variable, `Alarm` is hidden since it is not in the query or evidence. We can sum hidden variables out:"
   ]
  },
  {
   "cell_type": "code",
   "execution_count": null,
   "metadata": {},
   "outputs": [],
   "source": [
    "sum_out('Alarm', [mary_factor], alarm_network)"
   ]
  },
  {
   "cell_type": "markdown",
   "metadata": {},
   "source": [
    "The **variable elimination** algorithm simply alternates between creating large conditional probability tables through joins and reducing their size by summing out hidden variables. Here's the full `elimination_ask` function:"
   ]
  },
  {
   "cell_type": "code",
   "execution_count": null,
   "metadata": {},
   "outputs": [],
   "source": [
    "psource(elimination_ask)"
   ]
  },
  {
   "cell_type": "code",
   "execution_count": null,
   "metadata": {},
   "outputs": [],
   "source": [
    "print( elimination_ask('MaryCalls', {'Burglary': T}, alarm_network) )"
   ]
  },
  {
   "cell_type": "markdown",
   "metadata": {},
   "source": [
    "### Runtime comparison\n",
    "Let's see how the runtimes of these two algorithms compare.\n",
    "We expect variable elimination to outperform enumeration by a large margin as we reduce the number of repetitive calculations significantly."
   ]
  },
  {
   "cell_type": "code",
   "execution_count": null,
   "metadata": {},
   "outputs": [],
   "source": [
    "%%timeit\n",
    "enumeration_ask('MaryCalls', {'Burglary': T}, alarm_network)"
   ]
  },
  {
   "cell_type": "code",
   "execution_count": null,
   "metadata": {},
   "outputs": [],
   "source": [
    "%%timeit\n",
    "elimination_ask('MaryCalls', {'Burglary': T}, alarm_network)"
   ]
  },
  {
   "cell_type": "markdown",
   "metadata": {},
   "source": [
    "Variable elimination is significantly faster in large networks. The performance also depends on the ordering of the factors. The size of a factor is a function of the number of parents and the evidence. The complexity of the algorithm is dominated by the largest factor generated along the way. \n",
    "\n",
    "For some cases, like polytrees, there is always an efficient ordering of factors for variable elimination. But in general inference in Bayes' Nets in NP-hard. We'll look at ways we can scale better by getting an approximate inference instead of an exact one. "
   ]
  }
 ],
 "metadata": {
  "kernelspec": {
   "display_name": "Python 3",
   "language": "python",
   "name": "python3"
  },
  "language_info": {
   "codemirror_mode": {
    "name": "ipython",
    "version": 3
   },
   "file_extension": ".py",
   "mimetype": "text/x-python",
   "name": "python",
   "nbconvert_exporter": "python",
   "pygments_lexer": "ipython3",
   "version": "3.6.5"
  }
 },
 "nbformat": 4,
 "nbformat_minor": 2
}
