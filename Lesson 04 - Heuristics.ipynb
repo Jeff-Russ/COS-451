{
 "cells": [
  {
   "cell_type": "markdown",
   "metadata": {},
   "source": [
    "# CS486 - Artificial Intelligence\n",
    "## Lesson 4 - Heuristics\n",
    "\n",
    "Efficient search often comes down to finding effective heuristics for your problem. In this lesson, we'll explore various heuristics for a classic problem: Cannibals and Missionaries. First, let's set up our notebook:"
   ]
  },
  {
   "cell_type": "code",
   "execution_count": null,
   "metadata": {},
   "outputs": [],
   "source": [
    "from helpers import *\n",
    "from aima.search import *"
   ]
  },
  {
   "cell_type": "markdown",
   "metadata": {},
   "source": [
    "## Cannibals & Missionaries\n",
    "\n",
    "<img src=\"images/mc.jpg\"/>\n",
    "\n",
    "In the Cannibals and Missionaries problem you have $n$ cannibals and $n$ missionaries trying to cross a river on a single boat that can carry up to two people at a time. You must come up with a strategy for moving everyone across the river while making sure that the cannibals never outnumber the missionaries on either bank. \n",
    "\n",
    "In this notebook, we set $n=3$, which means we are moving 3 missionaries and 3 cannibals across the river. Let's revisit the `Problem` class to remind ourselves how a search problem is constructed:"
   ]
  },
  {
   "cell_type": "code",
   "execution_count": null,
   "metadata": {},
   "outputs": [],
   "source": [
    "%pdoc Problem"
   ]
  },
  {
   "cell_type": "markdown",
   "metadata": {},
   "source": [
    "First, we need to encode a state. We can encode every state in a 6-tuple that contains:\n",
    "\n",
    "* The number of **cannibals** on the **left** bank\n",
    "* The number of **missionaries** on the **left** bank\n",
    "* The status of the **boat** on the **left** bank: A `1` if the boat is present, a `0` otherwise. \n",
    "* The number of **cannibals** on the **right** bank\n",
    "* The number of **missionaries** on the **right** bank\n",
    "* The status of the **boat** on the **right** bank: A `1` if the boat is present, a `0` otherwise. \n",
    "\n",
    "The initial state is `(3,3,1,0,0,0)` and the goal state is `(0,0,0,3,3,1)`. \n",
    "\n",
    "Next, we need to define **actions**. Actions are encoded as the difference to be applied to a tuple. For instance, starting at the initial state, moving 1 missionary and 1 cannibal from the left bank to the right would be encoded as:\n",
    "\n",
    "```\n",
    "(-2,0,-1,2,0,1)\n",
    "```\n",
    "\n",
    "Note that the boat also moved sides. Below is an implementation of this problem as a search problem:"
   ]
  },
  {
   "cell_type": "code",
   "execution_count": null,
   "metadata": {},
   "outputs": [],
   "source": [
    "class Cannibals(Problem):    \n",
    "    def actions(self, state):\n",
    "        # generate all possible combinations of moving two people\n",
    "        return [(m*(state[-1] - state[2]), c*(state[-1]-state[2]), # set sign (+/-) for m & c, depending on which side the boat is on\n",
    "                -1 if state[2] == 1 else 1,                        # update boat location\n",
    "                m*(state[2] - state[-1]), c*(state[2]-state[-1]),  # set sign (+/-) for m & c, depending on which side the boat is on\n",
    "                -1 if state[-1] == 1 else 1)                       # update boat location\n",
    "                for m in range(0, 3)                               # up to 2 missionaries\n",
    "                for c in range(0, 3)                               # up to 2 cannibals\n",
    "                if 1 <= m+c <= 2]                                  # min/max boat capacity is 1 and 2, respectively\n",
    "    \n",
    "    def result(self, state, action):\n",
    "        res = tuple([state[i] + a for i, a in enumerate(action)])\n",
    "        # valid results must maintain the following invariants:\n",
    "        # 1. number of m/c on a side >= 0 and <= 3\n",
    "        # 2. for each side, m == 0 or m > c\n",
    "        return (res if all(map(lambda x: 0 <= x <= 3, res)) and (res[0] == 0 or res[0] >= res[1]) and (res[-3] == 0 or res[-3] >= res[-2]) \n",
    "                else state)\n",
    "    \n",
    "    # We'll instrument the goal test with a counter\n",
    "    @counter\n",
    "    def goal_test(self, state):\n",
    "        return state == self.goal # (0, 0, 0, 3, 3, 1)"
   ]
  },
  {
   "cell_type": "markdown",
   "metadata": {},
   "source": [
    "## Heuristics\n",
    "\n",
    "So now that we've constructed the problem, let's see what an uninformed search would yield: "
   ]
  },
  {
   "cell_type": "code",
   "execution_count": null,
   "metadata": {},
   "outputs": [],
   "source": [
    "searches = [\n",
    "    breadth_first_graph_search,\n",
    "    depth_first_graph_search\n",
    "]\n",
    "\n",
    "for search in searches:\n",
    "    problem = Cannibals(initial=(3,3,1,0,0,0),goal=(0, 0, 0, 3, 3, 1))\n",
    "    result = search(problem)\n",
    "    print(\"{:26} {:^11}\".format(search.__name__,problem.goal_test.count))"
   ]
  },
  {
   "cell_type": "markdown",
   "metadata": {},
   "source": [
    "Now let's see if we can devise any heuristics to improve uninformed search."
   ]
  },
  {
   "cell_type": "code",
   "execution_count": null,
   "metadata": {},
   "outputs": [],
   "source": [
    "def heuristic(node):\n",
    "    return 0\n",
    "\n",
    "problem = Cannibals(initial=(3,3,1,0,0,0),goal=(0, 0, 0, 3, 3, 1))\n",
    "astar_search(problem,heuristic)\n",
    "problem.goal_test.count"
   ]
  }
 ],
 "metadata": {
  "kernelspec": {
   "display_name": "Python 3",
   "language": "python",
   "name": "python3"
  },
  "language_info": {
   "codemirror_mode": {
    "name": "ipython",
    "version": 3
   },
   "file_extension": ".py",
   "mimetype": "text/x-python",
   "name": "python",
   "nbconvert_exporter": "python",
   "pygments_lexer": "ipython3",
   "version": "3.6.5"
  }
 },
 "nbformat": 4,
 "nbformat_minor": 2
}
