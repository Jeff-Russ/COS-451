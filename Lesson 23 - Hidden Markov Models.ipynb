{
 "cells": [
  {
   "cell_type": "markdown",
   "metadata": {},
   "source": [
    "# CS486 - Artificial Intelligence\n",
    "## Lesson 23 - Hidden Markov Models \n",
    "\n",
    "I know how the world changes at a time step (a markov chain?) and also some evidence about the world. We have:\n",
    "\n",
    "* An initial (prior) distribution. Maybe uniform. \n",
    "* Transition models (the rain/sun example). $P(X\\mid{X'})$\n",
    "* The emission model: What the probability of seeing the evidence for a state. \n",
    "\n",
    "### Time diminishes beliefs\n",
    "\n",
    "Our beliefs are all the things that could be true about the current state. The places our robot could be, the word that the acoustic patten could be conveying, the word in another language the speaker could intend. There is a probability distribution across all of that.\n",
    "\n",
    "$$ P(X_{t+1}\\mid{e_{1:t}})=\\sum_{x_t}P(X_{t+1}\\mid{x_t})P(x_t\\mid{e_{1:t}}) $$\n",
    "\n",
    "It gets cumbersome to carry the evidence everywhere we go, so we'll call a **belief** a probability given all of the evidence to date:\n",
    "\n",
    "$$ B(X_{t+1}) = P(X_t\\mid{e_{1:t}}) $$\n",
    "$$ B'(X_{t+1})=\\sum_{x_t}P(X'\\mid{x})B(x_t) $$\n",
    "\n",
    "### Evidence strengthens beliefs\n",
    "\n",
    "$$ B'(X_{t+1}) = P(X_{t+1}\\mid{e_{1:t}}) $$\n",
    "\n",
    "$$ P(X_{t+1}\\mid{e_{1:t+1}}) \\propto  P(e_{t+1}\\mid{X_{t+1}})P(X_{t+1}\\mid{e_{1:t}}) $$\n",
    "\n",
    "So our new beliefs are:\n",
    "\n",
    "$$ B(X_{t+1}) \\propto P(e\\mid{X_{t+1}})B'(X_{t+1}) $$\n",
    "\n",
    "Normalize to get back to a proper probability distribution. \n",
    "\n"
   ]
  }
 ],
 "metadata": {
  "kernelspec": {
   "display_name": "Python 3",
   "language": "python",
   "name": "python3"
  },
  "language_info": {
   "codemirror_mode": {
    "name": "ipython",
    "version": 3
   },
   "file_extension": ".py",
   "mimetype": "text/x-python",
   "name": "python",
   "nbconvert_exporter": "python",
   "pygments_lexer": "ipython3",
   "version": "3.6.5"
  }
 },
 "nbformat": 4,
 "nbformat_minor": 2
}
