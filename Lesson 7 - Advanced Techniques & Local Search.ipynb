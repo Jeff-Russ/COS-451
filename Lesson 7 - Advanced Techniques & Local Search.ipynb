{
 "cells": [
  {
   "cell_type": "markdown",
   "metadata": {},
   "source": [
    "# CS486 - Artificial Intelligence\n",
    "## Lesson 7 - Advanced Techniques & Local Search\n",
    "\n",
    "Iterative improvement gives us yet another way to tackle a CSP. We will take a look at a variety of CSPs and figure out how we can best solve them. "
   ]
  },
  {
   "cell_type": "code",
   "execution_count": null,
   "metadata": {},
   "outputs": [],
   "source": [
    "from helpers import *\n",
    "from aima.csp import *"
   ]
  },
  {
   "cell_type": "markdown",
   "metadata": {},
   "source": [
    "## Iterative Improvement\n",
    "\n",
    "Instead of building up to a valid path via backtracking, start with an invalid - but complete - state wherein every variable is randomly assigned. Next, randomly choose a conflicted variable and give it a less conflicted assignment. The ratio of constraints to variables has a big impact on how iterative improvement performs:\n",
    "\n",
    "$\\huge{\\text{ratio}=\\frac{\\text{number of constraints}}{\\text{number of variables}}}$\n",
    "\n",
    "Iterative improvement is a local search algorithm for CSPs. It is not guarenteed to find a solution and the solution that is does find may be local: There are single variable assignments that can be made that will violate fewer constraints. \n",
    "\n",
    "## N Queens\n",
    "\n",
    "Let's walk through the iterative improvement example form the lecture: N Queens. Suppose we have an $n \\times n$ chess board and $n$ queens that we want to arrange such that no queen challenges another. Here's what backtracking to a solution would look like:"
   ]
  },
  {
   "cell_type": "code",
   "execution_count": null,
   "metadata": {},
   "outputs": [],
   "source": [
    "%%time\n",
    "%matplotlib inline\n",
    "\n",
    "queens = Queens(12)\n",
    "result = backtracking_search(queens)\n",
    "queens.play()"
   ]
  },
  {
   "cell_type": "markdown",
   "metadata": {},
   "source": [
    "Now let's see what iterative improvement would do. The iterative improvement algorithm is called `min_conflicts`:"
   ]
  },
  {
   "cell_type": "code",
   "execution_count": null,
   "metadata": {},
   "outputs": [],
   "source": [
    "%%time\n",
    "queens = Queens(12)\n",
    "result = min_conflicts(queens)\n",
    "queens.play()"
   ]
  },
  {
   "cell_type": "markdown",
   "metadata": {},
   "source": [
    "* Did we all get the same solution? \n",
    "* Did we all finish at the same time? \n",
    "* What does the constraints to variables ration look like for this problem?\n",
    "* What are the strengths of iterative improvement? Weaknesses?"
   ]
  },
  {
   "cell_type": "markdown",
   "metadata": {},
   "source": [
    "## Map-coloring\n",
    "\n",
    "So now let's see how backtracking compares to iterative improvement for map coloring. There are maps built into AIMA: `usa` and `france`."
   ]
  },
  {
   "cell_type": "code",
   "execution_count": null,
   "metadata": {},
   "outputs": [],
   "source": [
    "usa.neighbors"
   ]
  },
  {
   "cell_type": "markdown",
   "metadata": {},
   "source": [
    "Both map can be colored in 4 colors. Before solving the CSP, which do you think will be faster: Iterative improvement or backtracking? Time your solution to find the one that performs best on average. "
   ]
  },
  {
   "cell_type": "code",
   "execution_count": null,
   "metadata": {},
   "outputs": [],
   "source": [
    "%%time\n",
    "# backtracking"
   ]
  },
  {
   "cell_type": "code",
   "execution_count": null,
   "metadata": {},
   "outputs": [],
   "source": [
    "%%time\n",
    "# iterative improvement"
   ]
  },
  {
   "cell_type": "markdown",
   "metadata": {},
   "source": [
    "## Sudoku\n",
    "\n",
    "Now let's compare backtracking and iterative improvement for Soduku. Sudoku is a 9-coloring map challange where each cell is a variable and neighbors and in rows, columns, and cells. Take a look at the board below:  "
   ]
  },
  {
   "cell_type": "code",
   "execution_count": null,
   "metadata": {},
   "outputs": [],
   "source": [
    "sudoku = Sudoku(easy1)\n",
    "sudoku.display(sudoku.infer_assignment())"
   ]
  },
  {
   "cell_type": "markdown",
   "metadata": {},
   "source": [
    "Before solving the CSP, which do you think will be faster: Iterative improvement or backtracking? Time your solution to find the one that performs best on average."
   ]
  },
  {
   "cell_type": "code",
   "execution_count": null,
   "metadata": {},
   "outputs": [],
   "source": [
    "%%time\n",
    "# backtracking"
   ]
  },
  {
   "cell_type": "code",
   "execution_count": null,
   "metadata": {},
   "outputs": [],
   "source": [
    "%%time\n",
    "# iterative improvement"
   ]
  },
  {
   "cell_type": "markdown",
   "metadata": {},
   "source": [
    "## Other CSPs\n",
    "\n",
    "What kind of strategy would work well for the following CSPs? \n",
    "\n",
    "* **Puzzles**: Finding a solution to an puzzle.\n",
    "* **Scheduling**: Finding a schedule that minimizes conflict for participants.\n",
    "* **Harmonization**: Find visually or musically pleasing harmonies for existing melodies or images. "
   ]
  },
  {
   "cell_type": "markdown",
   "metadata": {},
   "source": [
    "# Quadratic Assignment"
   ]
  }
 ],
 "metadata": {
  "kernelspec": {
   "display_name": "Python 3",
   "language": "python",
   "name": "python3"
  },
  "language_info": {
   "codemirror_mode": {
    "name": "ipython",
    "version": 3
   },
   "file_extension": ".py",
   "mimetype": "text/x-python",
   "name": "python",
   "nbconvert_exporter": "python",
   "pygments_lexer": "ipython3",
   "version": "3.6.5"
  }
 },
 "nbformat": 4,
 "nbformat_minor": 2
}
