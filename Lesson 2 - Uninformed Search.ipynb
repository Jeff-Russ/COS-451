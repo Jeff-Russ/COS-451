{
 "cells": [
  {
   "cell_type": "markdown",
   "metadata": {},
   "source": [
    "# CS486 - Artificial Intelligence\n",
    "## Lesson 2 - Uninformed Search\n",
    "\n",
    "Many problems can be solved using search graphs where nodes are states of the problem and edges are actions that move from one state to another with some cost. The authors of our book, ***Artifical Intelligence: A Modern Approach (AIMA)***, also maintain a [github page](https://github.com/aimacode) with interactive demos and example code for solving problems using search algorithms.\n",
    "\n",
    "Today we will use the AIMA search libraries to construct a search problem. Since the AIMA libraries are not distributed as a package, we have to manually add the local folder to Python's import search path. You can do that by executing the following code:\n",
    "\n",
    "```python\n",
    "import os, sys\n",
    "sys.path.append(os.path.join(os.getcwd(),'aima'))\n",
    "```\n",
    "\n",
    "That snippet of code is at the top of `helpers.py`, so you can achieve the same effect by simply importing `helpers`. "
   ]
  },
  {
   "cell_type": "code",
   "execution_count": null,
   "metadata": {},
   "outputs": [],
   "source": [
    "from helpers import counter\n",
    "from aima.search import *\n",
    "from aima.notebook import psource"
   ]
  },
  {
   "cell_type": "markdown",
   "metadata": {},
   "source": [
    "## Making Change\n",
    "\n",
    "Today we are going write a program that uses search trees to provide the correct change for an **arbitrary currency** with the fewest coins possible. \n",
    "\n",
    "All of the AIMA search algorithms take an instance of the abstract class ```Problem```:"
   ]
  },
  {
   "cell_type": "code",
   "execution_count": null,
   "metadata": {},
   "outputs": [],
   "source": [
    "psource(Problem)"
   ]
  },
  {
   "cell_type": "markdown",
   "metadata": {},
   "source": [
    "We need to define the following methods: ```actions```, ```result```, ```goal_test```."
   ]
  },
  {
   "cell_type": "markdown",
   "metadata": {},
   "source": [
    "## Change(Problem)\n",
    "\n",
    "Below is the skeleton of our change-making problem. Implement each method for our problem. Before writing any code, consider the following questions:\n",
    "\n",
    "* What does an initial state look like?\n",
    "* What does a goal state look like?\n",
    "* Is there more than one goal state for a given instance of the problem?\n",
    "* Is our problem a search tree or a search graph?\n",
    "* We don't need to define the ```path_cost``` method on our ```Problem``` instance. Why not?"
   ]
  },
  {
   "cell_type": "code",
   "execution_count": null,
   "metadata": {},
   "outputs": [],
   "source": [
    "class Change(Problem):    \n",
    "    def actions(self,state):\n",
    "        raise NotImplementedError\n",
    "    \n",
    "    def result(self,state,action):\n",
    "        raise NotImplementedError\n",
    "    \n",
    "    @counter\n",
    "    def goal_test(self, state):\n",
    "        raise NotImplementedError"
   ]
  },
  {
   "cell_type": "markdown",
   "metadata": {},
   "source": [
    "The `@counter` decorator came from our `helpers` import at the top of the notebook. The decorator lets us track how many times the `goal_test` method was called to give us an idea of how different algorithms perform. "
   ]
  },
  {
   "cell_type": "markdown",
   "metadata": {},
   "source": [
    "## Search Algorithms\n",
    "\n",
    "The [AIMA site](http://aimacode.github.io/aima-javascript/3-Solving-Problems-By-Searching/) has excellent visualizations of the different uninformed search algorithms. Before running the algorithm against our problem, consider the following questions:\n",
    "\n",
    "* Do you think the search alogorithms will perform differetly on this problem? Why or why not?\n",
    "\n",
    "Here is an instance of the problem to run through the uninformed search algorithms:"
   ]
  },
  {
   "cell_type": "code",
   "execution_count": null,
   "metadata": {},
   "outputs": [],
   "source": [
    "change = Change(initial=(), goal=51)"
   ]
  },
  {
   "cell_type": "code",
   "execution_count": null,
   "metadata": {},
   "outputs": [],
   "source": [
    "breadth_first_tree_search(change)"
   ]
  },
  {
   "cell_type": "code",
   "execution_count": null,
   "metadata": {},
   "outputs": [],
   "source": [
    "depth_first_tree_search(change)"
   ]
  },
  {
   "cell_type": "code",
   "execution_count": null,
   "metadata": {},
   "outputs": [],
   "source": [
    "iterative_deepening_search(change)"
   ]
  },
  {
   "cell_type": "code",
   "execution_count": null,
   "metadata": {},
   "outputs": [],
   "source": [
    "uniform_cost_search(change)"
   ]
  },
  {
   "cell_type": "markdown",
   "metadata": {},
   "source": [
    "## Performance\n",
    "\n",
    "Most of those algorithms returned the optimal goal, but who got there the fastest? You can add a ```print``` statement to the ```goal_test``` method to get an idea of the order and number of states an algorithm searches. "
   ]
  },
  {
   "cell_type": "markdown",
   "metadata": {},
   "source": [
    "Next, we'll run through each search type and see how they did. "
   ]
  },
  {
   "cell_type": "code",
   "execution_count": null,
   "metadata": {},
   "outputs": [],
   "source": [
    "searches = [\n",
    "    breadth_first_tree_search,    \n",
    "    iterative_deepening_search,\n",
    "    uniform_cost_search,\n",
    "    depth_first_tree_search\n",
    "]\n",
    "\n",
    "print(\"{:^26} {:^10} {:^16}\".format(\"Search Type\", \"Goal Tests\", \"Solution\"))\n",
    "\n",
    "for search in searches:\n",
    "    problem = Change(initial=(),goal=26)\n",
    "    result = search(problem)\n",
    "    print(\"{:26} {:^11} {:20}\".format(search.__name__,problem.goal_test.count,str(result.solution())))"
   ]
  },
  {
   "cell_type": "markdown",
   "metadata": {},
   "source": [
    "Try increasing the goal value to 76. Do the same algorithms win? Why or why not?"
   ]
  }
 ],
 "metadata": {
  "kernelspec": {
   "display_name": "Python 3",
   "language": "python",
   "name": "python3"
  },
  "language_info": {
   "codemirror_mode": {
    "name": "ipython",
    "version": 3
   },
   "file_extension": ".py",
   "mimetype": "text/x-python",
   "name": "python",
   "nbconvert_exporter": "python",
   "pygments_lexer": "ipython3",
   "version": "3.6.5"
  }
 },
 "nbformat": 4,
 "nbformat_minor": 2
}
