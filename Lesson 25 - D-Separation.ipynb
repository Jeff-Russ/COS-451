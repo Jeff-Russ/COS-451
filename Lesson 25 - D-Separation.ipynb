{
 "cells": [
  {
   "cell_type": "markdown",
   "metadata": {},
   "source": [
    "# CS486 - Artificial Intelligence\n",
    "## Lesson 25 - D-Separation\n",
    "\n",
    "A Bayes' Net compactly represents the joint distribution across a set of random variables. It is compact becuase it only computes conditional distributions between nodes that influence each other. Influence is indicated by an edge in the graph, but observations can changes the dependency relationships between variables.\n",
    "\n",
    "Today we'll look closely at the structure of a Bayes' Net and introduce the **D-Separation** algorithm that determines which variables are dependent given the structure of the network and observations. "
   ]
  },
  {
   "cell_type": "code",
   "execution_count": 1,
   "metadata": {},
   "outputs": [],
   "source": [
    "from helpers import *"
   ]
  },
  {
   "cell_type": "markdown",
   "metadata": {},
   "source": [
    "### Causal Chains\n",
    "\n",
    "Consider the following example of a causal chain in which a *Weather Report* has some chance of predicting a *Low Pressure* system that might cause *Rain* which may cause *Traffic*. Each edge in the chain indicates direct influence:\n",
    "\n",
    "<center><img src=\"images/chain.png\" width=\"300\"></center>\n",
    "    \n",
    "The Chain Rule says that we carry the givens up the chain:\n",
    "\n",
    "$$P(T) = P(W)P(L\\mid{W})P(R\\mid{W,L})P(T\\mid{W,L,R})$$\n",
    "\n",
    "In a Bayes' Net, we assume that every variable is independent given *only* its parents, so we can rewrite this more compactly as:\n",
    "\n",
    "$$P(T) = P(W)P(L\\mid{W})P(R\\mid{L})P(T\\mid{R})$$\n",
    "\n",
    "Since, in this example, the only influence comes from the parent then being given a parent (i.e. observing the parent) *separates* the dependencies between the nodes on the left and the nodes on the right. In our example, *Traffic* is independent of *Low Pressure* and the *Weather Report* if we have directly observed *Rain*. In this instance, you can think of it as snipping the path that connects the observed variable from the rest of the graph:\n",
    "\n",
    "<center><img src=\"images/chain_separated.png\" width=\"300\"></center>\n",
    "\n",
    "The path between *Low Pressure* and *Traffic* is **inactive**. If there is no active path between two variables in the Bayes' Net, then those variables are independent. The *dependency-separation*, or **D-Separation**, algorithm determines when paths are active or inactive. \n",
    "\n",
    "### Triplets\n",
    "\n",
    "Every path between two nodes can be decomposed into a sequence of three-node paths. The table below enumerates the three types of three-node paths and the observations that makes them active or inactive:\n",
    "\n",
    "<center><img src=\"images/triplets.png\" width=\"600\"></center>\n",
    "\n",
    "We've already talked about the **Causal Chain** instance. **Common Cause** and **Common Effect** both appear in the Alarm Network:\n",
    "\n",
    "<img src=\"images/bayes_net.jpg\" width=\"400\">\n",
    "\n",
    "### Common Cause\n",
    "\n",
    "Consider the common cause triplet between *JohnCalls* and *MaryCalls*. According to our table above, the path is active so there is dependency between *JohnCalls* and *MaryCalls*. Let's instantiate the network in AIMA to explore:"
   ]
  },
  {
   "cell_type": "code",
   "execution_count": 10,
   "metadata": {},
   "outputs": [],
   "source": [
    "alarm_network = (BayesNet()\n",
    "    .add('Burglary', [], 0.001)\n",
    "    .add('Earthquake', [], 0.002)\n",
    "    .add('Alarm', ['Burglary', 'Earthquake'], {(T, T): 0.95, (T, F): 0.94, (F, T): 0.29, (F, F): 0.001})\n",
    "    .add('JohnCalls', ['Alarm'], {T: 0.90, F: 0.05})\n",
    "    .add('MaryCalls', ['Alarm'], {T: 0.70, F: 0.01}))  \n",
    "\n",
    "# so we can reference the variables outside the instance\n",
    "globals().update(alarm_net.lookup)"
   ]
  },
  {
   "cell_type": "markdown",
   "metadata": {},
   "source": [
    "First, let's confirm that *JohnCalls* and *MaryCalls* are dependent. We'll use the `query` method which builds and queries the full joint distribution for the variables. "
   ]
  },
  {
   "cell_type": "code",
   "execution_count": 14,
   "metadata": {},
   "outputs": [
    {
     "name": "stdout",
     "output_type": "stream",
     "text": [
      "{F: 0.9493506867254092, T: 0.0506493132745907}\n",
      "{F: 0.8224233999127043, T: 0.17757660008729567}\n"
     ]
    }
   ],
   "source": [
    "print( query(JohnCalls, {MaryCalls: F}, alarm_network) )\n",
    "print( query(JohnCalls, {MaryCalls: T}, alarm_network) )"
   ]
  },
  {
   "cell_type": "markdown",
   "metadata": {},
   "source": [
    "Yep. There is a dependency. But why? If Mary is calling, then the alarm is more likely to be going off. If the alarm is going off, John is also more likely to call. According to our table, if we observe *Alarm*, the path will become inactive. Let's see:"
   ]
  },
  {
   "cell_type": "code",
   "execution_count": 15,
   "metadata": {},
   "outputs": [
    {
     "name": "stdout",
     "output_type": "stream",
     "text": [
      "{F: 0.09999999999999998, T: 0.9}\n",
      "{F: 0.09999999999999998, T: 0.9}\n"
     ]
    }
   ],
   "source": [
    "print( query(JohnCalls, {Alarm: T, MaryCalls: F}, alarm_network) )\n",
    "print( query(JohnCalls, {Alarm: T, MaryCalls: T}, alarm_network) )"
   ]
  },
  {
   "cell_type": "markdown",
   "metadata": {},
   "source": [
    "### Common Effect\n",
    "\n",
    "Consider the common effect triplet between *Burglary* and *Earthquake*. According to our table above, the path is inactive so the two variables are independent. Let's see:"
   ]
  },
  {
   "cell_type": "code",
   "execution_count": 18,
   "metadata": {},
   "outputs": [
    {
     "name": "stdout",
     "output_type": "stream",
     "text": [
      "{F: 0.999, T: 0.0010000000000000002}\n",
      "{F: 0.9990000000000001, T: 0.0010000000000000002}\n"
     ]
    }
   ],
   "source": [
    "print( query(Burglary, {Earthquake: F}, alarm_network) )\n",
    "print( query(Burglary, {Earthquake: T}, alarm_network) )"
   ]
  },
  {
   "cell_type": "markdown",
   "metadata": {},
   "source": [
    "According to the table, observing *Alarm* will active the path and introduce a dependency between the two variables:"
   ]
  },
  {
   "cell_type": "code",
   "execution_count": 19,
   "metadata": {},
   "outputs": [
    {
     "name": "stdout",
     "output_type": "stream",
     "text": [
      "{F: 0.5152140278494068, T: 0.4847859721505931}\n",
      "{F: 0.996731576412303, T: 0.003268423587696965}\n"
     ]
    }
   ],
   "source": [
    "print( query(Burglary, {Alarm: T, Earthquake: F}, alarm_network) )\n",
    "print( query(Burglary, {Alarm: T, Earthquake: T}, alarm_network) )"
   ]
  },
  {
   "cell_type": "markdown",
   "metadata": {},
   "source": [
    "What's happening here? If the alarm is going off, then something is causing. So the more probable that one cause, the *Burglary* is happening then the less likely the other cause, *Earthquake*, is also happening. \n",
    "\n",
    "It is important to note that **an observation of any dependent children of the common effect node will active the path**. For example:"
   ]
  },
  {
   "cell_type": "code",
   "execution_count": 20,
   "metadata": {},
   "outputs": [
    {
     "name": "stdout",
     "output_type": "stream",
     "text": [
      "{F: 0.9968393116490958, T: 0.0031606883509043226}\n",
      "{F: 0.9419116927193812, T: 0.058088307280618735}\n"
     ]
    }
   ],
   "source": [
    "print( query(Burglary, {MaryCalls: T, Earthquake: T}, alarm_network) )\n",
    "print( query(Burglary, {MaryCalls: T, Earthquake: F}, alarm_network) )"
   ]
  },
  {
   "cell_type": "markdown",
   "metadata": {},
   "source": [
    "Since a call from Mary indicates an alarm might be going off, it is tantamount - as far as path activiation is concerned - to observing the alarm itself. \n",
    "\n",
    "### D-Separation\n",
    "\n",
    "To check if two variables are independent, check *every* path between them. If there is an active path between the node, they are **not** independent. "
   ]
  }
 ],
 "metadata": {
  "kernelspec": {
   "display_name": "Python 3",
   "language": "python",
   "name": "python3"
  },
  "language_info": {
   "codemirror_mode": {
    "name": "ipython",
    "version": 3
   },
   "file_extension": ".py",
   "mimetype": "text/x-python",
   "name": "python",
   "nbconvert_exporter": "python",
   "pygments_lexer": "ipython3",
   "version": "3.6.5"
  }
 },
 "nbformat": 4,
 "nbformat_minor": 2
}
