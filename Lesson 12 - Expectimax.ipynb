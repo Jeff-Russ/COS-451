{
 "cells": [
  {
   "cell_type": "markdown",
   "metadata": {},
   "source": [
    "# CS486 - Artificial Intelligence\n",
    "## Lesson 12 - Expectimax\n",
    "\n",
    "Minimax is used to reason about the outcomes of adversarial decisions. We can use the same strategy to reason about the outcomes of chance.  "
   ]
  },
  {
   "cell_type": "code",
   "execution_count": 1,
   "metadata": {},
   "outputs": [],
   "source": [
    "import helpers\n",
    "from aima.games import *\n",
    "from aima.notebook import psource"
   ]
  },
  {
   "cell_type": "markdown",
   "metadata": {},
   "source": [
    "## Draw HiLo\n",
    "\n",
    "Let's use expectimax to play Draw HiLo, is card game where you guess if successive cards will be higher or lower than the previes card. First, let's walk through an AIMA implementation of the game:"
   ]
  },
  {
   "cell_type": "code",
   "execution_count": 494,
   "metadata": {},
   "outputs": [],
   "source": [
    "from random import randint\n",
    "\n",
    "class HiLo(StochasticGame):\n",
    "    def __init__(self):\n",
    "        self.initial = StochasticGameState(\n",
    "            to_move=1,\n",
    "            utility=1,\n",
    "            board=[randint(2,12)],\n",
    "            moves=[-1,1], \n",
    "            chance=None\n",
    "        )\n",
    "    \n",
    "    def chances(self,state):\n",
    "        return list(range(1,14))\n",
    "\n",
    "    def probability(self,chance):\n",
    "        return 1/13\n",
    "    \n",
    "    def outcome(self,state,chance):\n",
    "        return StochasticGameState(\n",
    "            to_move=1,\n",
    "            utility=state.utility,\n",
    "            board=state.board.copy(),\n",
    "            moves=[-1,1], \n",
    "            chance=chance\n",
    "        )\n",
    "\n",
    "    def result(self,state,action):\n",
    "        card = state.board[-1]\n",
    "        draw = state.chance\n",
    "        hilo = (draw>card)-(draw<card)\n",
    "        #print(\"card\",card,\"draw\",draw,\"hilo\",hilo,\"action\",action)\n",
    "        if hilo == 0:\n",
    "            utility = state.utility\n",
    "        elif hilo == action:\n",
    "            utility = state.utility*2\n",
    "        else:\n",
    "            utility = -1\n",
    "        \n",
    "        return StochasticGameState(\n",
    "            to_move=1,\n",
    "            utility=utility,\n",
    "            board=state.board + [draw],\n",
    "            moves=[-1,1], \n",
    "            chance=None\n",
    "        )\n",
    "    \n",
    "    def utility(self,state,player):\n",
    "        return state.utility\n",
    "    \n",
    "    def actions(self,state):\n",
    "        return state.moves\n",
    "    \n",
    "    def terminal_test(self,state):\n",
    "        return len(state.board) == 5 or state.utility < 0\n",
    "    \n",
    "    def display(self,state):\n",
    "        card = state.board[-1]\n",
    "        print(\"Card:\", card, \"Pot:\", state.utility)"
   ]
  },
  {
   "cell_type": "markdown",
   "metadata": {},
   "source": [
    "So we've defined what the odds of "
   ]
  },
  {
   "cell_type": "code",
   "execution_count": 411,
   "metadata": {},
   "outputs": [
    {
     "data": {
      "text/html": [
       "<!DOCTYPE html PUBLIC \"-//W3C//DTD HTML 4.01//EN\"\n",
       "   \"http://www.w3.org/TR/html4/strict.dtd\">\n",
       "\n",
       "<html>\n",
       "<head>\n",
       "  <title></title>\n",
       "  <meta http-equiv=\"content-type\" content=\"text/html; charset=None\">\n",
       "  <style type=\"text/css\">\n",
       "td.linenos { background-color: #f0f0f0; padding-right: 10px; }\n",
       "span.lineno { background-color: #f0f0f0; padding: 0 5px 0 5px; }\n",
       "pre { line-height: 125%; }\n",
       "body .hll { background-color: #ffffcc }\n",
       "body  { background: #f8f8f8; }\n",
       "body .c { color: #408080; font-style: italic } /* Comment */\n",
       "body .err { border: 1px solid #FF0000 } /* Error */\n",
       "body .k { color: #008000; font-weight: bold } /* Keyword */\n",
       "body .o { color: #666666 } /* Operator */\n",
       "body .ch { color: #408080; font-style: italic } /* Comment.Hashbang */\n",
       "body .cm { color: #408080; font-style: italic } /* Comment.Multiline */\n",
       "body .cp { color: #BC7A00 } /* Comment.Preproc */\n",
       "body .cpf { color: #408080; font-style: italic } /* Comment.PreprocFile */\n",
       "body .c1 { color: #408080; font-style: italic } /* Comment.Single */\n",
       "body .cs { color: #408080; font-style: italic } /* Comment.Special */\n",
       "body .gd { color: #A00000 } /* Generic.Deleted */\n",
       "body .ge { font-style: italic } /* Generic.Emph */\n",
       "body .gr { color: #FF0000 } /* Generic.Error */\n",
       "body .gh { color: #000080; font-weight: bold } /* Generic.Heading */\n",
       "body .gi { color: #00A000 } /* Generic.Inserted */\n",
       "body .go { color: #888888 } /* Generic.Output */\n",
       "body .gp { color: #000080; font-weight: bold } /* Generic.Prompt */\n",
       "body .gs { font-weight: bold } /* Generic.Strong */\n",
       "body .gu { color: #800080; font-weight: bold } /* Generic.Subheading */\n",
       "body .gt { color: #0044DD } /* Generic.Traceback */\n",
       "body .kc { color: #008000; font-weight: bold } /* Keyword.Constant */\n",
       "body .kd { color: #008000; font-weight: bold } /* Keyword.Declaration */\n",
       "body .kn { color: #008000; font-weight: bold } /* Keyword.Namespace */\n",
       "body .kp { color: #008000 } /* Keyword.Pseudo */\n",
       "body .kr { color: #008000; font-weight: bold } /* Keyword.Reserved */\n",
       "body .kt { color: #B00040 } /* Keyword.Type */\n",
       "body .m { color: #666666 } /* Literal.Number */\n",
       "body .s { color: #BA2121 } /* Literal.String */\n",
       "body .na { color: #7D9029 } /* Name.Attribute */\n",
       "body .nb { color: #008000 } /* Name.Builtin */\n",
       "body .nc { color: #0000FF; font-weight: bold } /* Name.Class */\n",
       "body .no { color: #880000 } /* Name.Constant */\n",
       "body .nd { color: #AA22FF } /* Name.Decorator */\n",
       "body .ni { color: #999999; font-weight: bold } /* Name.Entity */\n",
       "body .ne { color: #D2413A; font-weight: bold } /* Name.Exception */\n",
       "body .nf { color: #0000FF } /* Name.Function */\n",
       "body .nl { color: #A0A000 } /* Name.Label */\n",
       "body .nn { color: #0000FF; font-weight: bold } /* Name.Namespace */\n",
       "body .nt { color: #008000; font-weight: bold } /* Name.Tag */\n",
       "body .nv { color: #19177C } /* Name.Variable */\n",
       "body .ow { color: #AA22FF; font-weight: bold } /* Operator.Word */\n",
       "body .w { color: #bbbbbb } /* Text.Whitespace */\n",
       "body .mb { color: #666666 } /* Literal.Number.Bin */\n",
       "body .mf { color: #666666 } /* Literal.Number.Float */\n",
       "body .mh { color: #666666 } /* Literal.Number.Hex */\n",
       "body .mi { color: #666666 } /* Literal.Number.Integer */\n",
       "body .mo { color: #666666 } /* Literal.Number.Oct */\n",
       "body .sa { color: #BA2121 } /* Literal.String.Affix */\n",
       "body .sb { color: #BA2121 } /* Literal.String.Backtick */\n",
       "body .sc { color: #BA2121 } /* Literal.String.Char */\n",
       "body .dl { color: #BA2121 } /* Literal.String.Delimiter */\n",
       "body .sd { color: #BA2121; font-style: italic } /* Literal.String.Doc */\n",
       "body .s2 { color: #BA2121 } /* Literal.String.Double */\n",
       "body .se { color: #BB6622; font-weight: bold } /* Literal.String.Escape */\n",
       "body .sh { color: #BA2121 } /* Literal.String.Heredoc */\n",
       "body .si { color: #BB6688; font-weight: bold } /* Literal.String.Interpol */\n",
       "body .sx { color: #008000 } /* Literal.String.Other */\n",
       "body .sr { color: #BB6688 } /* Literal.String.Regex */\n",
       "body .s1 { color: #BA2121 } /* Literal.String.Single */\n",
       "body .ss { color: #19177C } /* Literal.String.Symbol */\n",
       "body .bp { color: #008000 } /* Name.Builtin.Pseudo */\n",
       "body .fm { color: #0000FF } /* Name.Function.Magic */\n",
       "body .vc { color: #19177C } /* Name.Variable.Class */\n",
       "body .vg { color: #19177C } /* Name.Variable.Global */\n",
       "body .vi { color: #19177C } /* Name.Variable.Instance */\n",
       "body .vm { color: #19177C } /* Name.Variable.Magic */\n",
       "body .il { color: #666666 } /* Literal.Number.Integer.Long */\n",
       "\n",
       "  </style>\n",
       "</head>\n",
       "<body>\n",
       "<h2></h2>\n",
       "\n",
       "<div class=\"highlight\"><pre><span></span><span class=\"k\">def</span> <span class=\"nf\">expectiminimax</span><span class=\"p\">(</span><span class=\"n\">state</span><span class=\"p\">,</span> <span class=\"n\">game</span><span class=\"p\">):</span>\n",
       "    <span class=\"sd\">&quot;&quot;&quot;Return the best move for a player after dice are thrown. The game tree</span>\n",
       "<span class=\"sd\">\tincludes chance nodes along with min and max nodes. [Figure 5.11]&quot;&quot;&quot;</span>\n",
       "    <span class=\"n\">player</span> <span class=\"o\">=</span> <span class=\"n\">game</span><span class=\"o\">.</span><span class=\"n\">to_move</span><span class=\"p\">(</span><span class=\"n\">state</span><span class=\"p\">)</span>\n",
       "\n",
       "    <span class=\"k\">def</span> <span class=\"nf\">max_value</span><span class=\"p\">(</span><span class=\"n\">state</span><span class=\"p\">):</span>\n",
       "        <span class=\"n\">v</span> <span class=\"o\">=</span> <span class=\"o\">-</span><span class=\"n\">infinity</span>\n",
       "        <span class=\"k\">for</span> <span class=\"n\">a</span> <span class=\"ow\">in</span> <span class=\"n\">game</span><span class=\"o\">.</span><span class=\"n\">actions</span><span class=\"p\">(</span><span class=\"n\">state</span><span class=\"p\">):</span>\n",
       "            <span class=\"n\">v</span> <span class=\"o\">=</span> <span class=\"nb\">max</span><span class=\"p\">(</span><span class=\"n\">v</span><span class=\"p\">,</span> <span class=\"n\">chance_node</span><span class=\"p\">(</span><span class=\"n\">state</span><span class=\"p\">,</span> <span class=\"n\">a</span><span class=\"p\">))</span>\n",
       "        <span class=\"k\">return</span> <span class=\"n\">v</span>\n",
       "\n",
       "    <span class=\"k\">def</span> <span class=\"nf\">min_value</span><span class=\"p\">(</span><span class=\"n\">state</span><span class=\"p\">):</span>\n",
       "        <span class=\"n\">v</span> <span class=\"o\">=</span> <span class=\"n\">infinity</span>\n",
       "        <span class=\"k\">for</span> <span class=\"n\">a</span> <span class=\"ow\">in</span> <span class=\"n\">game</span><span class=\"o\">.</span><span class=\"n\">actions</span><span class=\"p\">(</span><span class=\"n\">state</span><span class=\"p\">):</span>\n",
       "            <span class=\"n\">v</span> <span class=\"o\">=</span> <span class=\"nb\">min</span><span class=\"p\">(</span><span class=\"n\">v</span><span class=\"p\">,</span> <span class=\"n\">chance_node</span><span class=\"p\">(</span><span class=\"n\">state</span><span class=\"p\">,</span> <span class=\"n\">a</span><span class=\"p\">))</span>\n",
       "        <span class=\"k\">return</span> <span class=\"n\">v</span>\n",
       "\n",
       "    <span class=\"k\">def</span> <span class=\"nf\">chance_node</span><span class=\"p\">(</span><span class=\"n\">state</span><span class=\"p\">,</span> <span class=\"n\">action</span><span class=\"p\">):</span>\n",
       "        <span class=\"n\">res_state</span> <span class=\"o\">=</span> <span class=\"n\">game</span><span class=\"o\">.</span><span class=\"n\">result</span><span class=\"p\">(</span><span class=\"n\">state</span><span class=\"p\">,</span> <span class=\"n\">action</span><span class=\"p\">)</span>\n",
       "        <span class=\"k\">if</span> <span class=\"n\">game</span><span class=\"o\">.</span><span class=\"n\">terminal_test</span><span class=\"p\">(</span><span class=\"n\">res_state</span><span class=\"p\">):</span>\n",
       "            <span class=\"k\">return</span> <span class=\"n\">game</span><span class=\"o\">.</span><span class=\"n\">utility</span><span class=\"p\">(</span><span class=\"n\">res_state</span><span class=\"p\">,</span> <span class=\"n\">player</span><span class=\"p\">)</span>\n",
       "        <span class=\"n\">sum_chances</span> <span class=\"o\">=</span> <span class=\"mi\">0</span>\n",
       "        <span class=\"n\">num_chances</span> <span class=\"o\">=</span> <span class=\"nb\">len</span><span class=\"p\">(</span><span class=\"n\">game</span><span class=\"o\">.</span><span class=\"n\">chances</span><span class=\"p\">(</span><span class=\"n\">res_state</span><span class=\"p\">))</span>\n",
       "        <span class=\"k\">for</span> <span class=\"n\">chance</span> <span class=\"ow\">in</span> <span class=\"n\">game</span><span class=\"o\">.</span><span class=\"n\">chances</span><span class=\"p\">(</span><span class=\"n\">res_state</span><span class=\"p\">):</span>\n",
       "            <span class=\"n\">res_state</span> <span class=\"o\">=</span> <span class=\"n\">game</span><span class=\"o\">.</span><span class=\"n\">outcome</span><span class=\"p\">(</span><span class=\"n\">res_state</span><span class=\"p\">,</span> <span class=\"n\">chance</span><span class=\"p\">)</span>\n",
       "            <span class=\"n\">util</span> <span class=\"o\">=</span> <span class=\"mi\">0</span>\n",
       "            <span class=\"k\">if</span> <span class=\"n\">res_state</span><span class=\"o\">.</span><span class=\"n\">to_move</span> <span class=\"o\">==</span> <span class=\"n\">player</span><span class=\"p\">:</span>\n",
       "                <span class=\"n\">util</span> <span class=\"o\">=</span> <span class=\"n\">max_value</span><span class=\"p\">(</span><span class=\"n\">res_state</span><span class=\"p\">)</span>\n",
       "            <span class=\"k\">else</span><span class=\"p\">:</span>\n",
       "                <span class=\"n\">util</span> <span class=\"o\">=</span> <span class=\"n\">min_value</span><span class=\"p\">(</span><span class=\"n\">res_state</span><span class=\"p\">)</span>\n",
       "            <span class=\"n\">sum_chances</span> <span class=\"o\">+=</span> <span class=\"n\">util</span> <span class=\"o\">*</span> <span class=\"n\">game</span><span class=\"o\">.</span><span class=\"n\">probability</span><span class=\"p\">(</span><span class=\"n\">chance</span><span class=\"p\">)</span>\n",
       "        <span class=\"k\">return</span> <span class=\"n\">sum_chances</span> <span class=\"o\">/</span> <span class=\"n\">num_chances</span>\n",
       "\n",
       "    <span class=\"c1\"># Body of expectiminimax:</span>\n",
       "    <span class=\"k\">return</span> <span class=\"n\">argmax</span><span class=\"p\">(</span><span class=\"n\">game</span><span class=\"o\">.</span><span class=\"n\">actions</span><span class=\"p\">(</span><span class=\"n\">state</span><span class=\"p\">),</span>\n",
       "                  <span class=\"n\">key</span><span class=\"o\">=</span><span class=\"k\">lambda</span> <span class=\"n\">a</span><span class=\"p\">:</span> <span class=\"n\">chance_node</span><span class=\"p\">(</span><span class=\"n\">state</span><span class=\"p\">,</span> <span class=\"n\">a</span><span class=\"p\">),</span> <span class=\"n\">default</span><span class=\"o\">=</span><span class=\"bp\">None</span><span class=\"p\">)</span>\n",
       "</pre></div>\n",
       "</body>\n",
       "</html>\n"
      ],
      "text/plain": [
       "<IPython.core.display.HTML object>"
      ]
     },
     "metadata": {},
     "output_type": "display_data"
    }
   ],
   "source": [
    "psource(expectiminimax)"
   ]
  },
  {
   "cell_type": "code",
   "execution_count": 512,
   "metadata": {},
   "outputs": [],
   "source": [
    "def expectmax_player(game, state):\n",
    "    def max_value(state):\n",
    "        v = -infinity\n",
    "        for a in game.actions(state):\n",
    "            v = max(v, chance_node(state, a))\n",
    "        return v\n",
    "\n",
    "    def chance_node(state, action):\n",
    "        sum_chances = 0\n",
    "        num_chances = len(game.chances(state))\n",
    "\n",
    "        for chance in game.chances(state):\n",
    "            res_state = game.outcome(state, chance)\n",
    "            res_state = game.result(res_state, action)\n",
    "            \n",
    "            if game.terminal_test(res_state):\n",
    "                util = game.utility(res_state, player)\n",
    "            else:\n",
    "                util = max_value(res_state)\n",
    "                \n",
    "            sum_chances += util * game.probability(chance)\n",
    "                        \n",
    "        return sum_chances / num_chances\n",
    "\n",
    "    game.display(state)\n",
    "    \n",
    "    return argmax(game.actions(state),\n",
    "                  key=lambda a: chance_node(state, a), default=None)"
   ]
  },
  {
   "cell_type": "code",
   "execution_count": 464,
   "metadata": {},
   "outputs": [
    {
     "name": "stdout",
     "output_type": "stream",
     "text": [
      "current state:\n",
      "Card: 9 Pot: 1\n",
      "available moves: [-1, 1]\n",
      "\n",
      "Card: 1 Pot: 2\n"
     ]
    },
    {
     "data": {
      "text/plain": [
       "2"
      ]
     },
     "execution_count": 464,
     "metadata": {},
     "output_type": "execute_result"
    }
   ],
   "source": [
    "hilo = HiLo()\n",
    "hilo.play_game(query_player)"
   ]
  },
  {
   "cell_type": "code",
   "execution_count": null,
   "metadata": {},
   "outputs": [],
   "source": [
    "minimax_player = lambda game,state: minimax_decision(state,game)\n",
    "mininim.play_game(query_player,minimax_player)"
   ]
  },
  {
   "cell_type": "code",
   "execution_count": null,
   "metadata": {},
   "outputs": [],
   "source": [
    "minimax_player = lambda game,state: minimax_decision(state,game)\n",
    "mininim.play_game(minimax_player,query_player)"
   ]
  },
  {
   "cell_type": "code",
   "execution_count": 516,
   "metadata": {},
   "outputs": [
    {
     "name": "stdout",
     "output_type": "stream",
     "text": [
      "Card: 4 Pot: 1\n",
      "Card: 5 Pot: 2\n",
      "Card: 5 Pot: 2\n",
      "Card: 11 Pot: 4\n",
      "Card: 10 Pot: 8\n"
     ]
    },
    {
     "data": {
      "text/plain": [
       "8"
      ]
     },
     "execution_count": 516,
     "metadata": {},
     "output_type": "execute_result"
    }
   ],
   "source": [
    "def player(game,state):\n",
    "    game.display(state)\n",
    "    return expectiminimax(state,game)\n",
    "    return move\n",
    "\n",
    "HiLo().play_game(expectmax_player)"
   ]
  },
  {
   "cell_type": "code",
   "execution_count": null,
   "metadata": {},
   "outputs": [],
   "source": []
  },
  {
   "cell_type": "code",
   "execution_count": null,
   "metadata": {},
   "outputs": [],
   "source": []
  }
 ],
 "metadata": {
  "kernelspec": {
   "display_name": "Python 3",
   "language": "python",
   "name": "python3"
  },
  "language_info": {
   "codemirror_mode": {
    "name": "ipython",
    "version": 3
   },
   "file_extension": ".py",
   "mimetype": "text/x-python",
   "name": "python",
   "nbconvert_exporter": "python",
   "pygments_lexer": "ipython3",
   "version": "3.6.5"
  }
 },
 "nbformat": 4,
 "nbformat_minor": 2
}
