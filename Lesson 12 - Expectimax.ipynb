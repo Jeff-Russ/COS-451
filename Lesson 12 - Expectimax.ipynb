{
 "cells": [
  {
   "cell_type": "markdown",
   "metadata": {},
   "source": [
    "# CS486 - Artificial Intelligence\n",
    "## Lesson 12 - Expectimax\n",
    "\n",
    "Minimax is used to reason about the outcomes of adversarial decisions. We can use the same strategy to reason about the outcomes of chance.  "
   ]
  },
  {
   "cell_type": "code",
   "execution_count": null,
   "metadata": {},
   "outputs": [],
   "source": [
    "import helpers\n",
    "from aima.games import *\n",
    "from aima.notebook import psource"
   ]
  },
  {
   "cell_type": "markdown",
   "metadata": {},
   "source": [
    "## Draw HiLo\n",
    "\n",
    "Let's use expectimax to play Draw HiLo, is card game where you guess if successive cards will be higher or lower than the previes card. First, let's walk through an AIMA implementation of the game:"
   ]
  },
  {
   "cell_type": "code",
   "execution_count": null,
   "metadata": {},
   "outputs": [],
   "source": [
    "from random import randint\n",
    "\n",
    "class HiLo(StochasticGame):\n",
    "    def __init__(self):\n",
    "        self.payouts = {\n",
    "            1:  {-1: 0,    1: 1},\n",
    "            2:  {-1: 12,   1: 1.1},\n",
    "            3:  {-1: 5,    1: 1.2},\n",
    "            4:  {-1: 4,    1: 1.3},\n",
    "            5:  {-1: 3,    1: 1.4},\n",
    "            6:  {-1: 2,    1: 1.5},\n",
    "            7:  {-1: 1.8,  1: 1.8},\n",
    "            8:  {-1: 1.5,  1: 2},\n",
    "            9:  {-1: 1.4,  1: 3},\n",
    "            10: {-1: 1.3,  1: 4},\n",
    "            11: {-1: 1.2,  1: 5},\n",
    "            12: {-1: 1.1,  1: 12},\n",
    "            13: {-1: 1,    1: 0}\n",
    "        }\n",
    "        \n",
    "        self.initial = StochasticGameState(\n",
    "            to_move=1,\n",
    "            utility=1,\n",
    "            board=[randint(2,12)],\n",
    "            moves=[-1,1], \n",
    "            chance=None\n",
    "        )\n",
    "    \n",
    "    def chances(self,state):\n",
    "        return list(range(1,14))\n",
    "\n",
    "    def probability(self,chance):\n",
    "        return 1/13\n",
    "    \n",
    "    def outcome(self,state,chance):\n",
    "        return StochasticGameState(\n",
    "            to_move=1,\n",
    "            utility=state.utility,\n",
    "            board=state.board.copy(),\n",
    "            moves=state.moves, \n",
    "            chance=chance\n",
    "        )\n",
    "\n",
    "    def result(self,state,action):\n",
    "        card = state.board[-1]\n",
    "        draw = state.chance\n",
    "        hilo = (draw>card)-(draw<card)\n",
    "\n",
    "        if hilo == 0:\n",
    "            utility = state.utility\n",
    "        elif hilo == action:\n",
    "            utility = state.utility*self.payouts[card][hilo]\n",
    "        else:\n",
    "            utility = -1\n",
    "        \n",
    "        return StochasticGameState(\n",
    "            to_move=1,\n",
    "            utility=utility,\n",
    "            board=state.board + [draw],\n",
    "            moves=state.moves, \n",
    "            chance=None\n",
    "        )\n",
    "    \n",
    "    def utility(self,state,player):\n",
    "        return state.utility\n",
    "    \n",
    "    def actions(self,state):\n",
    "        return state.moves\n",
    "    \n",
    "    def terminal_test(self,state):\n",
    "        return len(state.board) == 5 or state.utility < 0\n",
    "    \n",
    "    def display(self,state):\n",
    "        print(\"Cards:\", \", \".join(map(str,state.board)))"
   ]
  },
  {
   "cell_type": "markdown",
   "metadata": {},
   "source": [
    "## Let's Play!\n",
    "\n",
    "First, let's see how a random player does in HiLo:"
   ]
  },
  {
   "cell_type": "code",
   "execution_count": null,
   "metadata": {},
   "outputs": [],
   "source": [
    "HiLo().play_game(random_player)"
   ]
  },
  {
   "cell_type": "markdown",
   "metadata": {},
   "source": [
    "Random doesn't seem very effective. What do you think the odds are that the random player wins a 5-round game? Now let's see how a human does:"
   ]
  },
  {
   "cell_type": "code",
   "execution_count": null,
   "metadata": {},
   "outputs": [],
   "source": [
    "HiLo().play_game(query_player)"
   ]
  },
  {
   "cell_type": "markdown",
   "metadata": {},
   "source": [
    "## Expectimax Player\n",
    "\n",
    "How exactly do we decide which card to play? Well, we have an intuition for how many cards are higher and play accordingly. That's exactly what the expectimax algorithm gives us. \n",
    "\n",
    "Let's code up an expectimax player and see how they do:"
   ]
  },
  {
   "cell_type": "code",
   "execution_count": null,
   "metadata": {},
   "outputs": [],
   "source": [
    "def expectimax_player(game,state):\n",
    "    def max_value(state):\n",
    "        v = -infinity\n",
    "        for a in game.actions(state):\n",
    "            v = max(v, chance_node(state, a))\n",
    "        return v\n",
    "\n",
    "    def chance_node(state, action):\n",
    "        sum_chances = 0\n",
    "        num_chances = len(game.chances(state))\n",
    "\n",
    "        for chance in game.chances(state):\n",
    "            res_state = game.outcome(state, chance)\n",
    "            res_state = game.result(res_state, action)\n",
    "\n",
    "            if game.terminal_test(res_state):\n",
    "                util = game.utility(res_state, res_state.to_move)\n",
    "            else:\n",
    "                util = max_value(res_state)\n",
    "\n",
    "            sum_chances += util * game.probability(chance)\n",
    "\n",
    "        return sum_chances / num_chances\n",
    "\n",
    "    return argmax(game.actions(state),\n",
    "              key=lambda a: chance_node(state, a), default=None)"
   ]
  },
  {
   "cell_type": "markdown",
   "metadata": {},
   "source": [
    "Let's see how our expectimax player performs:"
   ]
  },
  {
   "cell_type": "code",
   "execution_count": null,
   "metadata": {},
   "outputs": [],
   "source": [
    "HiLo().play_game(expectimax_player)"
   ]
  },
  {
   "cell_type": "markdown",
   "metadata": {},
   "source": [
    "To get a better idea of the math behind a particular decision, compute the decision for case where a 5 is up, assuming it's the final draw of the game."
   ]
  }
 ],
 "metadata": {
  "kernelspec": {
   "display_name": "Python 3",
   "language": "python",
   "name": "python3"
  },
  "language_info": {
   "codemirror_mode": {
    "name": "ipython",
    "version": 3
   },
   "file_extension": ".py",
   "mimetype": "text/x-python",
   "name": "python",
   "nbconvert_exporter": "python",
   "pygments_lexer": "ipython3",
   "version": "3.6.5"
  }
 },
 "nbformat": 4,
 "nbformat_minor": 2
}
