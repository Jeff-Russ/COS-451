{
 "cells": [
  {
   "cell_type": "markdown",
   "metadata": {},
   "source": [
    "# CS486 - Artificial Intelligence\n",
    "## Lesson 3 - Informed Search\n",
    "\n",
    "We can improve tree search with knowledge about the problem domain. For example, for US currency, returning the largest coin that doesn't exceed the goal always will always produce an optimal result. So how can we apply that knowledge to our change problem? \n",
    "\n",
    "First, we'll need to import the AIMA search library:"
   ]
  },
  {
   "cell_type": "code",
   "execution_count": 1,
   "metadata": {},
   "outputs": [],
   "source": [
    "from helpers import counter\n",
    "from aima.search import *"
   ]
  },
  {
   "cell_type": "markdown",
   "metadata": {},
   "source": [
    "## Greedy Search\n",
    "\n",
    "The **`greedy_best_first_graph_search`** function takes a heuristic function that estimates the cost expanding the node. It's *greedy* because it *always* chooses the path with the cheapest cost according to the heuristic. Let's try running a greedy search against our **`Change`** problem from the previous lesson.\n",
    "\n",
    "First, enter your **`Change`** class from the last time in the cell below:"
   ]
  },
  {
   "cell_type": "code",
   "execution_count": 7,
   "metadata": {},
   "outputs": [],
   "source": [
    "class Change(Problem):\n",
    "    def coins(self):\n",
    "        return (25,10,5,1)\n",
    "    \n",
    "    def actions(self,state):\n",
    "        return (coin for coin in self.coins() if coin + sum(state) <= self.goal)\n",
    "    \n",
    "    def result(self,state,action):\n",
    "        return state + (action,)\n",
    "    \n",
    "    @counter\n",
    "    def goal_test(self, state):\n",
    "        return sum(state) == self.goal"
   ]
  },
  {
   "cell_type": "markdown",
   "metadata": {},
   "source": [
    "Now we'll use the **`greedy_best_first_graph_search`** function to search your Change tree for a solution. The search function takes two arguments: The problem instance and a heuristic. The heuristic takes a **`Node`** object that encodes the current node in the tree, the action that lef to the node, and the node's corresponding state. Here's what the **`Node`** class looks like:"
   ]
  },
  {
   "cell_type": "code",
   "execution_count": 8,
   "metadata": {},
   "outputs": [
    {
     "data": {
      "text/plain": [
       "\u001b[1;31mClass docstring:\u001b[0m\n",
       "    A node in a search tree. Contains a pointer to the parent (the node\n",
       "    that this is a successor of) and to the actual state for this node. Note\n",
       "    that if a state is arrived at by two paths, then there are two nodes with\n",
       "    the same state.  Also includes the action that got us to this state, and\n",
       "    the total path_cost (also known as g) to reach the node.  Other functions\n",
       "    may add an f and h value; see best_first_graph_search and astar_search for\n",
       "    an explanation of how the f and h values are handled. You will not need to\n",
       "    subclass this class.\n",
       "\u001b[1;31mInit docstring:\u001b[0m\n",
       "    Create a search tree Node, derived from a parent by an action."
      ]
     },
     "metadata": {},
     "output_type": "display_data"
    }
   ],
   "source": [
    "%pdoc Node"
   ]
  },
  {
   "cell_type": "markdown",
   "metadata": {},
   "source": [
    "Below is code that implements a heuristic that always returns 1. Edit the **`heuristic`** function so that it always selects nodes with the highest value. \n",
    "\n",
    "**Hint:** `node.state` contains the list of coins for the state we're calculating the heuristic for."
   ]
  },
  {
   "cell_type": "code",
   "execution_count": 9,
   "metadata": {},
   "outputs": [
    {
     "data": {
      "text/plain": [
       "<Node (1, 25, 25)>"
      ]
     },
     "execution_count": 9,
     "metadata": {},
     "output_type": "execute_result"
    }
   ],
   "source": [
    "def heuristic(node):\n",
    "    total = sum(node.state)\n",
    "    return len(node.state) + (1/total if total > 0 else 1/0.0001) \n",
    "\n",
    "change = Change(initial=(),goal=51)\n",
    "greedy_best_first_graph_search(change, heuristic)"
   ]
  },
  {
   "cell_type": "markdown",
   "metadata": {},
   "source": [
    "Using the same code from last the Uniformed Search lesson, we can see how greedy search performs by adding it to the list of searches below."
   ]
  },
  {
   "cell_type": "code",
   "execution_count": 12,
   "metadata": {},
   "outputs": [
    {
     "name": "stdout",
     "output_type": "stream",
     "text": [
      "       Search Type         Goal Tests     Solution    \n",
      "breadth_first_tree_search      331     [25, 25, 1]         \n",
      "iterative_deepening_search     362     [25, 25, 1]         \n",
      "uniform_cost_search            400     [1, 25, 25]         \n",
      "depth_first_tree_search        452     [1, 1, 1, 1, 1, 1, 1, 1, 1, 1, 1, 1, 1, 1, 1, 1, 1, 1, 1, 1, 1, 1, 1, 1, 1, 1, 1, 1, 1, 1, 1, 1, 1, 1, 1, 1, 1, 1, 1, 1, 1, 1, 1, 1, 1, 1, 1, 1, 1, 1, 1]\n",
      "greedy                         475     [1, 25, 25]         \n",
      "astar                          498     [1, 25, 25]         \n"
     ]
    }
   ],
   "source": [
    "def greedy(problem):\n",
    "    return greedy_best_first_graph_search(problem, heuristic)\n",
    "\n",
    "def astar(problem):\n",
    "    return astar_search(problem, heuristic)\n",
    "\n",
    "searches = [\n",
    "    breadth_first_tree_search,    \n",
    "    iterative_deepening_search,\n",
    "    uniform_cost_search,\n",
    "    depth_first_tree_search,\n",
    "    greedy,\n",
    "    astar\n",
    "]\n",
    "\n",
    "print(\"{:^26} {:^10} {:^16}\".format(\"Search Type\", \"Goal Tests\", \"Solution\"))\n",
    "\n",
    "for search in searches:\n",
    "    problem = Change(initial=(),goal=26)\n",
    "    result = search(change)\n",
    "    print(\"{:26} {:^11} {:20}\".format(search.__name__,problem.goal_test.count,str(result.solution())))"
   ]
  },
  {
   "cell_type": "markdown",
   "metadata": {},
   "source": [
    "## A\\* search\n",
    "Is greedy *always* better? Consider the problem below."
   ]
  },
  {
   "cell_type": "code",
   "execution_count": 16,
   "metadata": {},
   "outputs": [
    {
     "name": "stdout",
     "output_type": "stream",
     "text": [
      "       Search Type         Goal Tests     Solution    \n",
      "breadth_first_tree_search      364     [4, 4, 4, 4, 4]     \n",
      "iterative_deepening_search     543     [4, 4, 4, 4, 4]     \n",
      "uniform_cost_search            365     [4, 4, 4, 4, 4]     \n",
      "depth_first_tree_search         6      [4, 4, 4, 4, 4]     \n",
      "greedy                         123     [4, 4, 4, 4, 4]     \n",
      "astar                          123     [4, 4, 4, 4, 4]     \n"
     ]
    }
   ],
   "source": [
    "class CarnivalChange(Change):\n",
    "    def coins(self):\n",
    "        return [1,3,4]\n",
    "\n",
    "print(\"{:^26} {:^10} {:^16}\".format(\"Search Type\", \"Goal Tests\", \"Solution\"))\n",
    "\n",
    "for search in searches:\n",
    "    change = CarnivalChange(initial=(),goal=15)\n",
    "    result = search(change)\n",
    "    print(\"{:26} {:^11} {:20}\".format(search.__name__,change.goal_test.count,str(result.solution())))"
   ]
  },
  {
   "cell_type": "markdown",
   "metadata": {},
   "source": [
    "Greedy seems to perform well but, in the **`CarnivalChange`** case, isn't returning the optimal solution. So how do we get the performance of a greedy search with the accuracy of Uniform Cost Search? The answer is **A\\* search**. \n",
    "\n",
    "The A* algorithm takes both a heuristic function and the path cost and adds the two together:\n",
    "\n",
    "\\begin{equation*}\n",
    "f(n) = g(n) + h(n)\n",
    "\\end{equation*}\n",
    "\n",
    "A\\* is guaranteed to return the optimal path if the heuristic is ***admissible***, meaning that it never over-estimates the cost to the goal. Consider the following questions before continuing:\n",
    "\n",
    "* Is our heuristic admissible? Why or why not?\n",
    "* What is the path cost of our **`Change`** problem? Can we change it? Do we need to?\n",
    "\n",
    "The AIMA **`astar_search`** operates exactly like the **`greedy_best_first_graph_search`** function: It takes a problem instance and a heuristic function. Using the code above as a reference, run A\\* against the **`CarnivalChange`** problem and answer the following questions:\n",
    "\n",
    "* Does A\\* find the optimal solution? \n",
    "* How does A\\* perform compared to the other search algorithms?"
   ]
  },
  {
   "cell_type": "code",
   "execution_count": null,
   "metadata": {},
   "outputs": [],
   "source": [
    "# Run A* against CarnivalChange and evaluate its performance here"
   ]
  }
 ],
 "metadata": {
  "kernelspec": {
   "display_name": "Python 3",
   "language": "python",
   "name": "python3"
  },
  "language_info": {
   "codemirror_mode": {
    "name": "ipython",
    "version": 3
   },
   "file_extension": ".py",
   "mimetype": "text/x-python",
   "name": "python",
   "nbconvert_exporter": "python",
   "pygments_lexer": "ipython3",
   "version": "3.6.5"
  }
 },
 "nbformat": 4,
 "nbformat_minor": 2
}
