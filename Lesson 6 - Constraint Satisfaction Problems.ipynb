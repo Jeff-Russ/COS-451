{
 "cells": [
  {
   "cell_type": "markdown",
   "metadata": {},
   "source": [
    "# CS486 - Artificial Intelligence\n",
    "## Lesson 6 - Constraint Satisfaction Problems\n",
    "\n",
    "The path from a start node to a goal node in a search tree problem can be more important than the goal itself. For instance, the path from Arad to Bucharest *is* the solution. \n",
    "\n",
    "CSPs focus on the solution to a problem with less focus on how the solution was reached. Map coloring is a good example: We care less about the *path* to solution than we do about the solution itself. CSPs are a set of variables that are assigned values within a domain that must satisfy a set of **constraints**. A lot of problems can be formulated as a CSPs, which makes them popular. There are a lot of general-purpose CSP solvers available and since they are often used to find or approximate solution to known hard problems.  \n",
    "\n",
    "Let's take a look at how we can use the AIMA library to articulate a CSP and the various methods of computing a solution. Before we get started, import the CSP library form AIMA:"
   ]
  },
  {
   "cell_type": "code",
   "execution_count": null,
   "metadata": {},
   "outputs": [],
   "source": [
    "import os, sys\n",
    "\n",
    "# since aima is not distributed as a package, this hack\n",
    "# is necessary to add it to Python's import search path\n",
    "sys.path.append(os.path.join(os.getcwd(),'aima'))\n",
    "\n",
    "from aima.csp import *\n",
    "from aima.notebook import psource"
   ]
  },
  {
   "cell_type": "markdown",
   "metadata": {},
   "source": [
    "Here's the documentation for the CSP class:"
   ]
  },
  {
   "cell_type": "code",
   "execution_count": null,
   "metadata": {},
   "outputs": [],
   "source": [
    "%pdoc CSP"
   ]
  },
  {
   "cell_type": "markdown",
   "metadata": {},
   "source": [
    "# Map Coloring\n",
    "\n",
    "So we need four things that every CSP problem needs: **variables**, **domains**, **neighbors**, and **contraints**. Let's see how we would build a solution to a trivial map coloring problem. \n",
    "\n",
    "Suppose we want to assign each node in a graph a color - *red, blue or green* - such that no two connected nodes share a color. The solution for the complete three-node graph, pictured below, is obvious.  Let's see how we would solve this simple case using the CSP class. "
   ]
  },
  {
   "cell_type": "code",
   "execution_count": null,
   "metadata": {},
   "outputs": [],
   "source": [
    "import networkx as nx\n",
    "%matplotlib inline\n",
    "nx.draw(nx.complete_graph(3))"
   ]
  },
  {
   "cell_type": "markdown",
   "metadata": {},
   "source": [
    "The variables are the things we want to assign. In this case, the nodes. The domains are the valid assignments that can be made to each variable. Neighbors are the sets of variables impacted by each other's assignments. Finally, the constraint method or lambda returns `*True*` if two neighbors have assignments that do not conflict.\n",
    "\n",
    "Below is a CSP instance for our simple map coloring problem."
   ]
  },
  {
   "cell_type": "code",
   "execution_count": null,
   "metadata": {},
   "outputs": [],
   "source": [
    "variables = ['A','B','C']\n",
    "\n",
    "domains = {\n",
    "    'A': ['R','G','B'],\n",
    "    'B': ['R','G','B'],\n",
    "    'C': ['R','G','B']\n",
    "}\n",
    "\n",
    "neighbors = {\n",
    "    'A': ['B','C'],\n",
    "    'B': ['A','C'],\n",
    "    'C': ['A','B']\n",
    "}\n",
    "\n",
    "constraints = lambda A,a,B,b: a!=b\n",
    "coloring = CSP(variables,domains,neighbors,constraints)"
   ]
  },
  {
   "cell_type": "markdown",
   "metadata": {},
   "source": [
    "# Backtracking\n",
    "\n",
    "So how do we actually solve the CSP? We need an algorithm for exploring possible solutions. *Backtracking* is the uninformed search for algorithm for CSPs. It sequentially checks every combination of assignments until it finds a vaid one. Consider the following [example from the AIMA website](http://aimacode.github.io/aima-javascript/6-Constraint-Satisfaction-Problems/#backtracking-search):"
   ]
  },
  {
   "cell_type": "code",
   "execution_count": null,
   "metadata": {},
   "outputs": [],
   "source": [
    "from IPython.display import IFrame\n",
    "IFrame('http://aimacode.github.io/aima-javascript/6-Constraint-Satisfaction-Problems/#backtracking-search', width=1000, height=600)"
   ]
  },
  {
   "cell_type": "markdown",
   "metadata": {},
   "source": [
    "Consider the following questions before carrying on:\n",
    "\n",
    "* What order do you think backtracking will check solutions on our CSP above? Add a print statement to check.\n",
    "* How could you improve backtracking for our problem above?\n",
    "* What kind of contraints does our CSP require? Implcit? Explicit? Unary? Binary? n-ary? "
   ]
  },
  {
   "cell_type": "code",
   "execution_count": null,
   "metadata": {},
   "outputs": [],
   "source": [
    "backtracking_search(coloring)"
   ]
  },
  {
   "cell_type": "code",
   "execution_count": null,
   "metadata": {},
   "outputs": [],
   "source": [
    "pieces = [\n",
    "    ('B', 'P', 'O', 'Y'),\n",
    "    ('W', 'B', 'P', 'R'),\n",
    "    ('Y', 'B', 'G', 'W'),\n",
    "    ('Y', 'G', 'B', 'R')\n",
    "]\n",
    "\n",
    "variables = []\n",
    "domains = {}\n",
    "neighbors = {}\n",
    "\n",
    "def constraints(A,a,B,b):\n",
    "    return True\n",
    "    \n",
    "scramble = CSP(variables,domains,neighbors,constraints)"
   ]
  },
  {
   "cell_type": "code",
   "execution_count": null,
   "metadata": {},
   "outputs": [],
   "source": [
    "perfect_ten_pieces = [\n",
    "    (3,2,7,9),\n",
    "    (7,8,4,1),\n",
    "    (1,6,8,4),\n",
    "    (2,6,9,3),\n",
    "    (3,2,6,9),\n",
    "    (4,2,7,9),\n",
    "    (7,4,2,9),\n",
    "    (3,4,9,8),\n",
    "    (1,8,6,3)\n",
    "]"
   ]
  }
 ],
 "metadata": {
  "kernelspec": {
   "display_name": "Python 3",
   "language": "python",
   "name": "python3"
  },
  "language_info": {
   "codemirror_mode": {
    "name": "ipython",
    "version": 3
   },
   "file_extension": ".py",
   "mimetype": "text/x-python",
   "name": "python",
   "nbconvert_exporter": "python",
   "pygments_lexer": "ipython3",
   "version": "3.6.5"
  }
 },
 "nbformat": 4,
 "nbformat_minor": 2
}
