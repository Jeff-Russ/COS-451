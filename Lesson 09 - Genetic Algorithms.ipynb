{
 "cells": [
  {
   "cell_type": "markdown",
   "metadata": {},
   "source": [
    "# CS486 - Artificial Intelligence\n",
    "## Lesson 9 - Genetic Algorithms\n",
    "\n",
    "A genetic algorithm is another stochastic approach to iteratively improve a goal. We'll use the AIMA library to implement a string matching genetic algorithm. "
   ]
  },
  {
   "cell_type": "code",
   "execution_count": null,
   "metadata": {},
   "outputs": [],
   "source": [
    "from helpers import romania\n",
    "from aima.search import *\n",
    "from aima.notebook import psource\n",
    "\n",
    "# we'll use pandas to nicely display and filter data\n",
    "from pandas import DataFrame"
   ]
  },
  {
   "cell_type": "markdown",
   "metadata": {},
   "source": [
    "## String Matching\n",
    "\n",
    "We are going to design a genetic algorithm that starts from a population of random strings that, over many generations, will produce a string that matches some target. First, let's choose a target string to match:"
   ]
  },
  {
   "cell_type": "code",
   "execution_count": null,
   "metadata": {},
   "outputs": [],
   "source": [
    "target = \"\" # start with around 10 characters"
   ]
  },
  {
   "cell_type": "markdown",
   "metadata": {},
   "source": [
    "Next, e'll use the AIMA **`init_population`** function to generate our initial population:\n",
    "\n",
    "```python\n",
    "init_population(pop_size, gene_pool, ind_size)\n",
    "```\n",
    "\n",
    "Population size is a tradeoff between computation and memory. For this problem, `100` works well. **`gene_pool`** contains all the possible values that can be used to generate a member of the population. Our gene pool will be the following range of ASCII characters:"
   ]
  },
  {
   "cell_type": "code",
   "execution_count": null,
   "metadata": {},
   "outputs": [],
   "source": [
    "pop_size = 100\n",
    "ind_size = len(target)\n",
    "gene_pool = [chr(x) for x in range(32, 123)]\n",
    "\n",
    "print(\"Gene pool:\", ''.join(gene_pool))"
   ]
  },
  {
   "cell_type": "markdown",
   "metadata": {},
   "source": [
    "Finally, the `ind_size` is the number of genes in each individual. "
   ]
  },
  {
   "cell_type": "code",
   "execution_count": null,
   "metadata": {},
   "outputs": [],
   "source": [
    "population = init_population(pop_size,gene_pool,ind_size)\n",
    "\n",
    "# we'll use a DataFrame to generate a nice table\n",
    "DataFrame.from_dict({'Individual': population})"
   ]
  },
  {
   "cell_type": "markdown",
   "metadata": {},
   "source": [
    "## Fitness \n",
    "\n",
    "Next, we need to define a function that quantifies the fitness of individuals in the population. The more fit an individual, the more likely the will combine genes with other members of the population, i.e. \"reproduce\". \n",
    "\n",
    "The fitness function takes an individual - a word in our case - and returns a number. The larger the number returned by the fitness function, the more fit the individual. "
   ]
  },
  {
   "cell_type": "code",
   "execution_count": null,
   "metadata": {},
   "outputs": [],
   "source": [
    "def fitness(word):\n",
    "    return 0"
   ]
  },
  {
   "cell_type": "markdown",
   "metadata": {},
   "source": [
    "The table below shows us the fitness of individuals in the initial population. These are the individuals that will contribute the most to the next generation. "
   ]
  },
  {
   "cell_type": "code",
   "execution_count": null,
   "metadata": {},
   "outputs": [],
   "source": [
    "df = DataFrame.from_dict({\n",
    "    'Individual': population, \n",
    "    'Fitness': [fitness(i) for i in population]\n",
    "}).sort_values(by=['Fitness'], ascending=False)\n",
    "\n",
    "df[df['Fitness'] != 0]"
   ]
  },
  {
   "cell_type": "markdown",
   "metadata": {},
   "source": [
    "The **`select`** and **`recombine`** functions in the AIMA library select individuals from the population and recombine their genes."
   ]
  },
  {
   "cell_type": "markdown",
   "metadata": {},
   "source": [
    "## Mutation\n",
    "\n",
    "It's unlikely that our population will converge on the goal strictly through reproduction. An important gene may not be represented inour population at all. New genes are introduced into each generation through *mutation*. Mutations are introduced by adding a random gene to randomly selected individuals in each generation.  \n",
    "\n",
    "Here is the mutation function used by the AIMA library: "
   ]
  },
  {
   "cell_type": "code",
   "execution_count": null,
   "metadata": {},
   "outputs": [],
   "source": [
    "psource(mutate)"
   ]
  },
  {
   "cell_type": "markdown",
   "metadata": {},
   "source": [
    "Longer strings take longer to converge, so we'll make mutation a function of string size:"
   ]
  },
  {
   "cell_type": "code",
   "execution_count": null,
   "metadata": {},
   "outputs": [],
   "source": [
    "mutation_rate = 1 / ind_size"
   ]
  },
  {
   "cell_type": "markdown",
   "metadata": {},
   "source": [
    "## Re-populating\n",
    "\n",
    "The following code will use the fitness function to produce a successive generation. "
   ]
  },
  {
   "cell_type": "code",
   "execution_count": null,
   "metadata": {},
   "outputs": [],
   "source": [
    "next_gen = [mutate(recombine(*select(2, population, fitness)), gene_pool, mutation_rate)\n",
    "              for i in range(len(population))]"
   ]
  },
  {
   "cell_type": "markdown",
   "metadata": {},
   "source": [
    "The next generation should be significantly more fit than the previous: "
   ]
  },
  {
   "cell_type": "code",
   "execution_count": null,
   "metadata": {},
   "outputs": [],
   "source": [
    "DataFrame.from_dict({\n",
    "    'Individual': next_gen, \n",
    "    'Fitness': [fitness(i) for i in next_gen]\n",
    "}).sort_values(by=['Fitness'], ascending=False)"
   ]
  },
  {
   "cell_type": "markdown",
   "metadata": {},
   "source": [
    "Let's iterate and watch the algorithm progress:"
   ]
  },
  {
   "cell_type": "code",
   "execution_count": null,
   "metadata": {},
   "outputs": [],
   "source": [
    "import time\n",
    "from IPython.core.display import HTML\n",
    "from IPython.display import clear_output, display\n",
    "\n",
    "gen_num = 0\n",
    "next_gen = population[:]\n",
    "fittest = max(next_gen,key=fitness)\n",
    "\n",
    "while (fitness(fittest) != ind_size):\n",
    "    next_gen = [mutate(recombine(*select(2, next_gen, fitness)), gene_pool, mutation_rate)\n",
    "        for i in range(len(population))]\n",
    "\n",
    "    gen_num += 1\n",
    "    fittest = max(next_gen,key=fitness)\n",
    "    \n",
    "    if gen_num % 10 == 0:\n",
    "        display(HTML(\"<h1>{}: {}</h1>\".format(gen_num, ''.join(fittest))))\n",
    "        clear_output(wait=True)\n",
    "        \n",
    "display(HTML(\"<h1>{}: {}</h1>\".format(gen_num, ''.join(fittest))))"
   ]
  },
  {
   "cell_type": "markdown",
   "metadata": {},
   "source": [
    "We can do all of that in one step using AIMA's **`genetic_algorithm`**:"
   ]
  },
  {
   "cell_type": "code",
   "execution_count": null,
   "metadata": {},
   "outputs": [],
   "source": [
    "%%time\n",
    "genetic_algorithm(population,fitness,gene_pool,ind_size)"
   ]
  },
  {
   "cell_type": "markdown",
   "metadata": {},
   "source": [
    "# Writing a Blokus Agent\n",
    "\n",
    "How can you write an agent using genetic algorithms?"
   ]
  }
 ],
 "metadata": {
  "kernelspec": {
   "display_name": "Python 3",
   "language": "python",
   "name": "python3"
  },
  "language_info": {
   "codemirror_mode": {
    "name": "ipython",
    "version": 3
   },
   "file_extension": ".py",
   "mimetype": "text/x-python",
   "name": "python",
   "nbconvert_exporter": "python",
   "pygments_lexer": "ipython3",
   "version": "3.6.5"
  }
 },
 "nbformat": 4,
 "nbformat_minor": 2
}
